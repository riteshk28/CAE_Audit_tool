{
 "cells": [
  {
   "cell_type": "code",
   "execution_count": 1,
   "id": "574b3c5e",
   "metadata": {},
   "outputs": [],
   "source": [
    "from dash import Dash, html, Input, Output, dash_table\n",
    "import pandas as pd\n",
    "import PyPDF2"
   ]
  },
  {
   "cell_type": "code",
   "execution_count": 3,
   "id": "e45ab143",
   "metadata": {},
   "outputs": [
    {
     "data": {
      "text/plain": [
       "<PyPDF2._reader.PdfFileReader at 0x1ea23e0e790>"
      ]
     },
     "execution_count": 3,
     "metadata": {},
     "output_type": "execute_result"
    }
   ],
   "source": [
    "pdfFileObj = open('dab_502.pdf', 'rb')\n",
    "pdfReader = PyPDF2.PdfFileReader(pdfFileObj)\n",
    "pdfReader"
   ]
  },
  {
   "cell_type": "code",
   "execution_count": 4,
   "id": "61ebec23",
   "metadata": {},
   "outputs": [
    {
     "data": {
      "text/plain": [
       "'Course ID: 028542 Academic Year: 2018/19\\nCourse Description:\\nIn this course, students will learn how to apply the methods of statistical inference for numerical\\nand categorical data. Students will learn how to set up and perform hypothesis tests, interpret the\\nresults of the analysis in a way that is interpretable for business managers. Using sample data\\nsets, students will learn to report estimates of quantities in a way that expresses the uncertainty\\nof the quantity of interest.\\nPre-Requisites: Category: Vocational None\\nCo-Requisites: Course Credits: 5.00 None\\nSpecial Conditions: Academic Level: Credit (Post Basic) None\\nInstructional Hours: Classroom Instruction 45\\nLaboratory/Workshops 30\\nOther 0\\nTotal Hours 75\\nChair: James Marsh\\nAcademic Department:\\nWindsor: Zekelman School of Business & Information Technolo\\nChatham:\\nRevised By: Mark Cassar\\nLast Revision: 2018/11/27\\nCourse Outline\\nDAB 502 Advanced Statistics for Data Analytics\\nPage  1 ©St. Clair College of Applied Arts and Technology Thursday, November 11, 2021Required Tools, Equipment, and Learning Resources:\\nTextbook: OpenIntro Statistics, David Diez, Christopher Barr, and Mine\\nÇetinkaya-Rundel (openintro.org 2017)\\nSoftware: R and RStudio\\nEssential Employability Skills (EES):\\n \\nDescription Teach Assess Reinforce\\n ✗ ✗ 1)Communication: Communicate clearly, concisely and\\ncorrectly in the written, spoken, and visual form that\\nfulfills the purpose and meets the needs of the\\naudience.\\n 2)Communication: Respond to written, spoken, or visual\\nmessages in a manner that ensures effective\\ncommunication\\n ✗ ✗ 3)Numeracy: Execute mathematical operations accurately\\n ✗ ✗ 4)Critical Thinking: Apply a systematic approach to solve\\nproblems\\n ✗ ✗ 5)Critical Thinking: Use a variety of thinking skills to\\nanticipate and solve problems\\n 6)Information Management: Locate, select, organize, and\\ndocument information using appropriate technology and\\ninformation systems\\n ✗ ✗ 7)Information Management: Analyze, evaluate and apply\\nrelevant information from a variety of sources\\n 8)Interpersonal: Show respect for the diverse opinions,\\nvalues, belief systems, and contributions of others\\n 9)Interpersonal: Interact with others in groups or teams\\nin ways that contribute to effective working\\nrelationships and the achievement of goals\\n 10)Personal: Manage the use of time and other resources to\\ncomplete projects\\n 11)Personal: Take responsibility for one\\'s own actions,\\ndecision and consequences\\n \\nCourse Learning Outcomes (CLO):\\nUpon successful completion of this course, the student will be able to:\\n(EKS = Embedded Knowledge and Skills)\\n \\n•Describe data types, relationships, and distributions in the context of specific data sets\\n(CLO #1)\\nEKS:\\n•Identify variables as numerical or categorical.\\n \\n•Define associated variablesDAB 502 Advanced Statistics for Data Analytics\\n \\nPage  2 ©St. Clair College of Applied Arts and Technology Thursday, November 11, 2021 \\n•Identify the independent and dependent variables from a set of variables\\n \\n•Question confounding variables and sources of bias in a given study\\n \\n•Distinguish between simple random, stratified, cluster, and multistage sampling\\n \\n•Identify the shape of a distribution as symmetric, right skewed, or left skewed, and\\nunimodal, bimodal, multimodal, or uniform\\n \\n•Recognize when transformations can make the distribution of data more symmetric, and hence\\neasier to model\\n \\n \\n•Use probability concepts and simulation to describe data samples. (CLO #2)\\nEKS:\\n•Calculate and interpret probabilities to provide basic interpretations of a data set\\n \\n•Use probability distributions to describe the behavior of discrete and continuous random\\nvariables\\n \\n \\n•Estimate population parameters using confidence intervals when appropriate (CLO #3)\\nEKS:\\n•Verify that the necessary conditions have been met for establishing population parameters\\n \\n•Define point estimates that can be used for decision making\\n \\n•Construct one- and two-sample confidence intervals for point estimates\\n \\n•Interpret confidence intervals in context of the given data\\n \\n \\n•Conduct tests of significance when appropriate to aid in decision making (CLO #4)\\nEKS:\\n•Carry out one- and two- sample hypothesis tests\\n \\n•Articulate appropriate hypotheses within the context of a given data\\n \\n•Explain type I and type II errors, in general, and in the context of the given data\\n \\n•Interpret the meanings of rejection of the null hypothesis and of failure to reject the\\nnull hypothesis\\n \\n•Use a p-value to reach an appropriate conclusion\\n \\n•Explain the difference between practical significance and statistical significance for the\\ngiven context and data\\n \\n \\nTeaching/Learning Activities:\\nLecture / Discussion, Guided Analysis, Individual / Group Class Exercises, Lab exercisesDAB 502 Advanced Statistics for Data Analytics\\n \\nPage  3 ©St. Clair College of Applied Arts and Technology Thursday, November 11, 2021Assessment:\\nStandard/Traditional Delivery\\n \\n  15.00% •Exam 1\\n \\nFrequency: 1\\n Description: This exam will consist of questions that may include application,\\nprogramming, short answer, multiple choice, and project-style\\nquestions.\\n Outcomes Assessed: 1, 2, 3\\nEES Assessed: 3, 4, 5, 7\\n  20.00% •Exam 2\\n \\nFrequency: 1\\n Description: This exam will consist of questions that may include application,\\nprogramming, short answer, multiple choice, and project-style\\nquestions.\\n Outcomes Assessed: 2, 3, 4\\nEES Assessed: 3, 4, 5, 7\\n  35.00% •Exam 3\\n \\nFrequency: 1\\n Description: This cumulative exam will consist of questions that may include\\napplication, programming, short answer, multiple choice, and\\nproject-style questions.\\n Outcomes Assessed: 1, 2, 3, 4\\nEES Assessed: 3, 4, 5, 7\\n  30.00% •Lab Exercises\\n \\nFrequency: 8-10\\n Description: The lab exercises require students to carry out statistical\\ninference.\\n Outcomes Assessed: 1, 2, 3\\nEES Assessed: 1, 3, 4, 5, 7\\n _____\\n100%\\nNote: The assessment listed in this outline represents the planned assessment method for this course.\\nUnanticipated conditions during the delivery of the course may necessitate changes to the planned\\nassessment.  Students will receive reasonable advance notice should any changes be necessary.\\n \\n \\nGrading:\\nA = 80 - 100%\\nB = 70 - 79%\\xa0\\nC = 60 - 69%\\nD = 50 59%    \\nF = Less than 50%DAB 502 Advanced Statistics for Data Analytics\\n \\nPage  4 ©St. Clair College of Applied Arts and Technology Thursday, November 11, 2021Course Content:\\nSee Embedded Knowledge and Skills\\n\"Academic misconduct, including cheating of any form, will not be tolerated.  Consequences may include, but are\\nnot limited to, a warning, a grade of \"0\" on the assignment/test/examination, or a failing grade in the course.\"\\n(Code of Students Rights and Responsibilities:  Section 7.1.6)\\nAll students and employees of this College have a right to study and work in an environment that is free from\\nharassment and discrimination.\\nAccommodation Statement\\nThe College will provide supports and services to all students with disabilities, both temporary and permanent, with valid supporting documentation.  Interim\\naccommodation requests will be received in good faith and can be provided pending receipt of medical documentation.  Retroactive accommodations will be\\nconsidered based on the unique circumstances of the individual matter.  The College will give all Human Rights Code-related requests for accommodation\\nmeaningful consideration.\\nProcedure:  The student is responsible to meet with a counsellor in Accessibility Services to discuss their functional limitations and accommodation needs \\nand provide Accessibility Services with supporting documentation.  Students are not required under the Ontario Human Rights Code to disclose their \\ndisability diagnosis (with the exception of Learning Disabilities) to receive accessibility supports and services and/or academic accommodations.  \\nStudents are encouraged to meet with a counsellor prior to the start of a semester to provide information and arrange accommodations.DAB 502 Advanced Statistics for Data Analytics\\n \\nPage  5 ©St. Clair College of Applied Arts and Technology Thursday, November 11, 2021'"
      ]
     },
     "execution_count": 4,
     "metadata": {},
     "output_type": "execute_result"
    }
   ],
   "source": [
    "pageObj = pdfReader.getPage(3)\n",
    "page1 = pageObj.extractText()\n",
    "page_blob = pageObj.extractText()\n",
    "\n",
    "\n",
    "output = \"\"\n",
    "for i in range(pdfReader.numPages):\n",
    "    pageObj = pdfReader.getPage(i)\n",
    "    output += pageObj.extractText()\n",
    "\n",
    "\n",
    "\n",
    "\n",
    "page1 = output\n",
    "\n",
    "page1"
   ]
  },
  {
   "cell_type": "code",
   "execution_count": 5,
   "id": "c0dde3c6",
   "metadata": {},
   "outputs": [
    {
     "data": {
      "text/plain": [
       "'Course ID: 028542 Academic Year: 2018/19Course Description:In this course, students will learn how to apply the methods of statistical inference for numericaland categorical data. Students will learn how to set up and perform hypothesis tests, interpret theresults of the analysis in a way that is interpretable for business managers. Using sample datasets, students will learn to report estimates of quantities in a way that expresses the uncertaintyof the quantity of interest.Pre-Requisites: Category: Vocational NoneCo-Requisites: Course Credits: 5.00 NoneSpecial Conditions: Academic Level: Credit (Post Basic) NoneInstructional Hours: Classroom Instruction 45Laboratory/Workshops 30Other 0Total Hours 75Chair: James MarshAcademic Department:Windsor: Zekelman School of Business & Information TechnoloChatham:Revised By: Mark CassarLast Revision: 2018/11/27Course OutlineDAB 502 Advanced Statistics for Data AnalyticsPage  1 ©St. Clair College of Applied Arts and Technology Thursday, November 11, 2021Required Tools, Equipment, and Learning Resources:Textbook: OpenIntro Statistics, David Diez, Christopher Barr, and MineÇetinkaya-Rundel (openintro.org 2017)Software: R and RStudioEssential Employability Skills (EES):, Description Teach Assess Reinforce ✗ ✗ 1)Communication: Communicate clearly, concisely andcorrectly in the written, spoken, and visual form thatfulfills the purpose and meets the needs of theaudience. 2)Communication: Respond to written, spoken, or visualmessages in a manner that ensures effectivecommunication ✗ ✗ 3)Numeracy: Execute mathematical operations accurately ✗ ✗ 4)Critical Thinking: Apply a systematic approach to solveproblems ✗ ✗ 5)Critical Thinking: Use a variety of thinking skills toanticipate and solve problems 6)Information Management: Locate, select, organize, anddocument information using appropriate technology andinformation systems ✗ ✗ 7)Information Management: Analyze, evaluate and applyrelevant information from a variety of sources 8)Interpersonal: Show respect for the diverse opinions,values, belief systems, and contributions of others 9)Interpersonal: Interact with others in groups or teamsin ways that contribute to effective workingrelationships and the achievement of goals 10)Personal: Manage the use of time and other resources tocomplete projects 11)Personal: Take responsibility for one\\'s own actions,decision and consequences, Course Learning Outcomes (CLO):Upon successful completion of this course, the student will be able to:(EKS = Embedded Knowledge and Skills), •Describe data types, relationships, and distributions in the context of specific data sets(CLO #1)EKS:•Identify variables as numerical or categorical., •Define associated variablesDAB 502 Advanced Statistics for Data Analytics, Page  2 ©St. Clair College of Applied Arts and Technology Thursday, November 11, 2021 •Identify the independent and dependent variables from a set of variables, •Question confounding variables and sources of bias in a given study, •Distinguish between simple random, stratified, cluster, and multistage sampling, •Identify the shape of a distribution as symmetric, right skewed, or left skewed, andunimodal, bimodal, multimodal, or uniform, •Recognize when transformations can make the distribution of data more symmetric, and henceeasier to model,  •Use probability concepts and simulation to describe data samples. (CLO #2)EKS:•Calculate and interpret probabilities to provide basic interpretations of a data set, •Use probability distributions to describe the behavior of discrete and continuous randomvariables,  •Estimate population parameters using confidence intervals when appropriate (CLO #3)EKS:•Verify that the necessary conditions have been met for establishing population parameters, •Define point estimates that can be used for decision making, •Construct one- and two-sample confidence intervals for point estimates, •Interpret confidence intervals in context of the given data,  •Conduct tests of significance when appropriate to aid in decision making (CLO #4)EKS:•Carry out one- and two- sample hypothesis tests, •Articulate appropriate hypotheses within the context of a given data, •Explain type I and type II errors, in general, and in the context of the given data, •Interpret the meanings of rejection of the null hypothesis and of failure to reject thenull hypothesis, •Use a p-value to reach an appropriate conclusion, •Explain the difference between practical significance and statistical significance for thegiven context and data,  Teaching/Learning Activities:Lecture / Discussion, Guided Analysis, Individual / Group Class Exercises, Lab exercisesDAB 502 Advanced Statistics for Data Analytics, Page  3 ©St. Clair College of Applied Arts and Technology Thursday, November 11, 2021Assessment:Standard/Traditional Delivery,   15.00% •Exam 1, Frequency: 1 Description: This exam will consist of questions that may include application,programming, short answer, multiple choice, and project-stylequestions. Outcomes Assessed: 1, 2, 3EES Assessed: 3, 4, 5, 7  20.00% •Exam 2, Frequency: 1 Description: This exam will consist of questions that may include application,programming, short answer, multiple choice, and project-stylequestions. Outcomes Assessed: 2, 3, 4EES Assessed: 3, 4, 5, 7  35.00% •Exam 3, Frequency: 1 Description: This cumulative exam will consist of questions that may includeapplication, programming, short answer, multiple choice, andproject-style questions. Outcomes Assessed: 1, 2, 3, 4EES Assessed: 3, 4, 5, 7  30.00% •Lab Exercises, Frequency: 8-10 Description: The lab exercises require students to carry out statisticalinference. Outcomes Assessed: 1, 2, 3EES Assessed: 1, 3, 4, 5, 7 _____100%Note: The assessment listed in this outline represents the planned assessment method for this course.Unanticipated conditions during the delivery of the course may necessitate changes to the plannedassessment.  Students will receive reasonable advance notice should any changes be necessary.,  Grading:A = 80 - 100%B = 70 - 79%\\xa0C = 60 - 69%D = 50 59%    F = Less than 50%DAB 502 Advanced Statistics for Data Analytics, Page  4 ©St. Clair College of Applied Arts and Technology Thursday, November 11, 2021Course Content:See Embedded Knowledge and Skills\"Academic misconduct, including cheating of any form, will not be tolerated.  Consequences may include, but arenot limited to, a warning, a grade of \"0\" on the assignment/test/examination, or a failing grade in the course.\"(Code of Students Rights and Responsibilities:  Section 7.1.6)All students and employees of this College have a right to study and work in an environment that is free fromharassment and discrimination.Accommodation StatementThe College will provide supports and services to all students with disabilities, both temporary and permanent, with valid supporting documentation.  Interimaccommodation requests will be received in good faith and can be provided pending receipt of medical documentation.  Retroactive accommodations will beconsidered based on the unique circumstances of the individual matter.  The College will give all Human Rights Code-related requests for accommodationmeaningful consideration.Procedure:  The student is responsible to meet with a counsellor in Accessibility Services to discuss their functional limitations and accommodation needs and provide Accessibility Services with supporting documentation.  Students are not required under the Ontario Human Rights Code to disclose their disability diagnosis (with the exception of Learning Disabilities) to receive accessibility supports and services and/or academic accommodations.  Students are encouraged to meet with a counsellor prior to the start of a semester to provide information and arrange accommodations.DAB 502 Advanced Statistics for Data Analytics, Page  5 ©St. Clair College of Applied Arts and Technology Thursday, November 11, 2021'"
      ]
     },
     "execution_count": 5,
     "metadata": {},
     "output_type": "execute_result"
    }
   ],
   "source": [
    "course_name = page1.replace('\\n \\n',', ').replace('\\n','')\n",
    "course_name"
   ]
  },
  {
   "cell_type": "code",
   "execution_count": 6,
   "id": "843c426d",
   "metadata": {},
   "outputs": [
    {
     "data": {
      "text/plain": [
       "'DAB 502 Advanced Statistics for Data Analytics'"
      ]
     },
     "execution_count": 6,
     "metadata": {},
     "output_type": "execute_result"
    }
   ],
   "source": [
    "course_name = course_name.split('Course Outline')\n",
    "course_name = course_name[1].split('Page  1')\n",
    "course_name = course_name[0]\n",
    "course_name"
   ]
  },
  {
   "cell_type": "code",
   "execution_count": 7,
   "id": "dcd4414f",
   "metadata": {},
   "outputs": [],
   "source": [
    "page1 = page1[25:]\n",
    "\n",
    "# insert commas to separate variables and then remove excess strings\n",
    "page1 = page1.replace('\\n \\n',', ').replace('\\n','')\n",
    "\n",
    "page1 = page1.split(',')\n",
    "\n",
    "s = pd.Series(page1)\n",
    "out = (s.str.extractall(r'(?P<Object>Assignments|Exam 1|Exam 2|Exam 3|Exam|Project|Quizzes|Final Exam)|(?P<Weight>\\d+.00)|(?P<Frequency>Frequency: \\d+)')\n",
    "       .groupby(level=0).first()\n",
    "       )\n",
    "df = pd.DataFrame(out)\n",
    "\n"
   ]
  },
  {
   "cell_type": "code",
   "execution_count": 8,
   "id": "3086b9b7",
   "metadata": {},
   "outputs": [
    {
     "data": {
      "text/html": [
       "<div>\n",
       "<style scoped>\n",
       "    .dataframe tbody tr th:only-of-type {\n",
       "        vertical-align: middle;\n",
       "    }\n",
       "\n",
       "    .dataframe tbody tr th {\n",
       "        vertical-align: top;\n",
       "    }\n",
       "\n",
       "    .dataframe thead th {\n",
       "        text-align: right;\n",
       "    }\n",
       "</style>\n",
       "<table border=\"1\" class=\"dataframe\">\n",
       "  <thead>\n",
       "    <tr style=\"text-align: right;\">\n",
       "      <th></th>\n",
       "      <th>Object</th>\n",
       "      <th>Weight</th>\n",
       "      <th>Frequency</th>\n",
       "    </tr>\n",
       "  </thead>\n",
       "  <tbody>\n",
       "    <tr>\n",
       "      <th>3</th>\n",
       "      <td>None</td>\n",
       "      <td>5.00</td>\n",
       "      <td>None</td>\n",
       "    </tr>\n",
       "    <tr>\n",
       "      <th>69</th>\n",
       "      <td>Exam 1</td>\n",
       "      <td>15.00</td>\n",
       "      <td>None</td>\n",
       "    </tr>\n",
       "    <tr>\n",
       "      <th>70</th>\n",
       "      <td>None</td>\n",
       "      <td>None</td>\n",
       "      <td>Frequency: 1</td>\n",
       "    </tr>\n",
       "    <tr>\n",
       "      <th>79</th>\n",
       "      <td>Exam 2</td>\n",
       "      <td>20.00</td>\n",
       "      <td>None</td>\n",
       "    </tr>\n",
       "    <tr>\n",
       "      <th>80</th>\n",
       "      <td>None</td>\n",
       "      <td>None</td>\n",
       "      <td>Frequency: 1</td>\n",
       "    </tr>\n",
       "    <tr>\n",
       "      <th>89</th>\n",
       "      <td>Exam 3</td>\n",
       "      <td>35.00</td>\n",
       "      <td>None</td>\n",
       "    </tr>\n",
       "    <tr>\n",
       "      <th>90</th>\n",
       "      <td>None</td>\n",
       "      <td>None</td>\n",
       "      <td>Frequency: 1</td>\n",
       "    </tr>\n",
       "    <tr>\n",
       "      <th>100</th>\n",
       "      <td>None</td>\n",
       "      <td>30.00</td>\n",
       "      <td>None</td>\n",
       "    </tr>\n",
       "    <tr>\n",
       "      <th>101</th>\n",
       "      <td>None</td>\n",
       "      <td>None</td>\n",
       "      <td>Frequency: 8</td>\n",
       "    </tr>\n",
       "  </tbody>\n",
       "</table>\n",
       "</div>"
      ],
      "text/plain": [
       "     Object Weight     Frequency\n",
       "3      None   5.00          None\n",
       "69   Exam 1  15.00          None\n",
       "70     None   None  Frequency: 1\n",
       "79   Exam 2  20.00          None\n",
       "80     None   None  Frequency: 1\n",
       "89   Exam 3  35.00          None\n",
       "90     None   None  Frequency: 1\n",
       "100    None  30.00          None\n",
       "101    None   None  Frequency: 8"
      ]
     },
     "execution_count": 8,
     "metadata": {},
     "output_type": "execute_result"
    }
   ],
   "source": [
    "df"
   ]
  },
  {
   "cell_type": "code",
   "execution_count": 9,
   "id": "29da9035",
   "metadata": {},
   "outputs": [
    {
     "name": "stderr",
     "output_type": "stream",
     "text": [
      "C:\\Users\\rites\\AppData\\Local\\Temp\\ipykernel_48492\\436906345.py:5: SettingWithCopyWarning: \n",
      "A value is trying to be set on a copy of a slice from a DataFrame.\n",
      "Try using .loc[row_indexer,col_indexer] = value instead\n",
      "\n",
      "See the caveats in the documentation: https://pandas.pydata.org/pandas-docs/stable/user_guide/indexing.html#returning-a-view-versus-a-copy\n",
      "  df['Frequency'] = df['Frequency'].str.extract('(\\d+)').astype(int)\n",
      "C:\\Users\\rites\\AppData\\Local\\Temp\\ipykernel_48492\\436906345.py:6: SettingWithCopyWarning: \n",
      "A value is trying to be set on a copy of a slice from a DataFrame.\n",
      "Try using .loc[row_indexer,col_indexer] = value instead\n",
      "\n",
      "See the caveats in the documentation: https://pandas.pydata.org/pandas-docs/stable/user_guide/indexing.html#returning-a-view-versus-a-copy\n",
      "  df['Weight'] = df['Weight'].astype(float)\n",
      "C:\\Users\\rites\\AppData\\Local\\Temp\\ipykernel_48492\\436906345.py:9: SettingWithCopyWarning: \n",
      "A value is trying to be set on a copy of a slice from a DataFrame.\n",
      "Try using .loc[row_indexer,col_indexer] = value instead\n",
      "\n",
      "See the caveats in the documentation: https://pandas.pydata.org/pandas-docs/stable/user_guide/indexing.html#returning-a-view-versus-a-copy\n",
      "  df['Weight per Object'] = df.Weight/df.Frequency\n",
      "C:\\Users\\rites\\AppData\\Local\\Temp\\ipykernel_48492\\436906345.py:11: SettingWithCopyWarning: \n",
      "A value is trying to be set on a copy of a slice from a DataFrame.\n",
      "Try using .loc[row_indexer,col_indexer] = value instead\n",
      "\n",
      "See the caveats in the documentation: https://pandas.pydata.org/pandas-docs/stable/user_guide/indexing.html#returning-a-view-versus-a-copy\n",
      "  df['Flag'] = ((df['Object'].str.contains('Quiz', regex=True)) & (abs(df['Weight per Object']) <= 4)) | ((df['Object'].str.contains('Exam', regex=True)) & (df['Weight per Object'] >= 25) & (df['Weight per Object'] <= 40)) | ((df['Object'].str.contains('Test', regex=True)) & (df['Weight per Object'] >= 5) & (df['Weight per Object'] <= 24))\n"
     ]
    }
   ],
   "source": [
    "df['Frequency'] = df.Frequency.shift(-1)\n",
    "\n",
    "df = df.dropna()\n",
    "\n",
    "df['Frequency'] = df['Frequency'].str.extract('(\\d+)').astype(int)\n",
    "df['Weight'] = df['Weight'].astype(float)\n",
    "\n",
    "\n",
    "df['Weight per Object'] = df.Weight/df.Frequency\n",
    "\n",
    "df['Flag'] = ((df['Object'].str.contains('Quiz', regex=True)) & (abs(df['Weight per Object']) <= 4)) | ((df['Object'].str.contains('Exam', regex=True)) & (df['Weight per Object'] >= 25) & (df['Weight per Object'] <= 40)) | ((df['Object'].str.contains('Test', regex=True)) & (df['Weight per Object'] >= 5) & (df['Weight per Object'] <= 24))\n",
    "#df['Description'] =  \"This assessment has a weightage of \" + df['Weight'] + \" percentage\"\n",
    "df1 = df[df['Flag']==False]\n",
    "df1 = df1[['Object', 'Weight', 'Flag']]"
   ]
  },
  {
   "cell_type": "code",
   "execution_count": 10,
   "id": "cc06032e",
   "metadata": {},
   "outputs": [
    {
     "data": {
      "text/html": [
       "<div>\n",
       "<style scoped>\n",
       "    .dataframe tbody tr th:only-of-type {\n",
       "        vertical-align: middle;\n",
       "    }\n",
       "\n",
       "    .dataframe tbody tr th {\n",
       "        vertical-align: top;\n",
       "    }\n",
       "\n",
       "    .dataframe thead th {\n",
       "        text-align: right;\n",
       "    }\n",
       "</style>\n",
       "<table border=\"1\" class=\"dataframe\">\n",
       "  <thead>\n",
       "    <tr style=\"text-align: right;\">\n",
       "      <th></th>\n",
       "      <th>Object</th>\n",
       "      <th>Weight</th>\n",
       "      <th>Flag</th>\n",
       "    </tr>\n",
       "  </thead>\n",
       "  <tbody>\n",
       "    <tr>\n",
       "      <th>69</th>\n",
       "      <td>Exam 1</td>\n",
       "      <td>15.0</td>\n",
       "      <td>False</td>\n",
       "    </tr>\n",
       "    <tr>\n",
       "      <th>79</th>\n",
       "      <td>Exam 2</td>\n",
       "      <td>20.0</td>\n",
       "      <td>False</td>\n",
       "    </tr>\n",
       "  </tbody>\n",
       "</table>\n",
       "</div>"
      ],
      "text/plain": [
       "    Object  Weight   Flag\n",
       "69  Exam 1    15.0  False\n",
       "79  Exam 2    20.0  False"
      ]
     },
     "execution_count": 10,
     "metadata": {},
     "output_type": "execute_result"
    }
   ],
   "source": [
    "df1"
   ]
  },
  {
   "cell_type": "code",
   "execution_count": null,
   "id": "300b4a37",
   "metadata": {},
   "outputs": [],
   "source": []
  }
 ],
 "metadata": {
  "kernelspec": {
   "display_name": "Python 3 (ipykernel)",
   "language": "python",
   "name": "python3"
  },
  "language_info": {
   "codemirror_mode": {
    "name": "ipython",
    "version": 3
   },
   "file_extension": ".py",
   "mimetype": "text/x-python",
   "name": "python",
   "nbconvert_exporter": "python",
   "pygments_lexer": "ipython3",
   "version": "3.9.12"
  }
 },
 "nbformat": 4,
 "nbformat_minor": 5
}
