{
 "cells": [
  {
   "cell_type": "code",
   "execution_count": 2,
   "id": "10f1942d",
   "metadata": {},
   "outputs": [],
   "source": [
    "import pandas as pd"
   ]
  },
  {
   "cell_type": "code",
   "execution_count": 5,
   "id": "494a5bf2",
   "metadata": {},
   "outputs": [],
   "source": [
    "Exam = \"Exam is less than \"\n",
    "Quize = \"Quiz weightage greater\"\n",
    "Test = \"Test is less than\"\n",
    "cols = ['Exam', 'Quize', 'Test']\n",
    "Rule_Violation = {\"c1\":cols,\"Rules\":[Exam,Quize,Test]}\n",
    "Rule_Violation = pd.DataFrame(Rule_Violation)"
   ]
  },
  {
   "cell_type": "code",
   "execution_count": 6,
   "id": "661b4978",
   "metadata": {},
   "outputs": [
    {
     "data": {
      "text/html": [
       "<div>\n",
       "<style scoped>\n",
       "    .dataframe tbody tr th:only-of-type {\n",
       "        vertical-align: middle;\n",
       "    }\n",
       "\n",
       "    .dataframe tbody tr th {\n",
       "        vertical-align: top;\n",
       "    }\n",
       "\n",
       "    .dataframe thead th {\n",
       "        text-align: right;\n",
       "    }\n",
       "</style>\n",
       "<table border=\"1\" class=\"dataframe\">\n",
       "  <thead>\n",
       "    <tr style=\"text-align: right;\">\n",
       "      <th></th>\n",
       "      <th>c1</th>\n",
       "      <th>Rules</th>\n",
       "    </tr>\n",
       "  </thead>\n",
       "  <tbody>\n",
       "    <tr>\n",
       "      <th>0</th>\n",
       "      <td>Exam</td>\n",
       "      <td>Exam is less than</td>\n",
       "    </tr>\n",
       "    <tr>\n",
       "      <th>1</th>\n",
       "      <td>Quize</td>\n",
       "      <td>Quiz weightage greater</td>\n",
       "    </tr>\n",
       "    <tr>\n",
       "      <th>2</th>\n",
       "      <td>Test</td>\n",
       "      <td>Test is less than</td>\n",
       "    </tr>\n",
       "  </tbody>\n",
       "</table>\n",
       "</div>"
      ],
      "text/plain": [
       "      c1                   Rules\n",
       "0   Exam      Exam is less than \n",
       "1  Quize  Quiz weightage greater\n",
       "2   Test       Test is less than"
      ]
     },
     "execution_count": 6,
     "metadata": {},
     "output_type": "execute_result"
    }
   ],
   "source": [
    "Rule_Violation"
   ]
  },
  {
   "cell_type": "code",
   "execution_count": 7,
   "id": "f4235900",
   "metadata": {},
   "outputs": [],
   "source": [
    "rules_df = pd.read_excel('rules.xlsx', 'id_1')"
   ]
  },
  {
   "cell_type": "code",
   "execution_count": 8,
   "id": "54292b09",
   "metadata": {},
   "outputs": [
    {
     "data": {
      "text/html": [
       "<div>\n",
       "<style scoped>\n",
       "    .dataframe tbody tr th:only-of-type {\n",
       "        vertical-align: middle;\n",
       "    }\n",
       "\n",
       "    .dataframe tbody tr th {\n",
       "        vertical-align: top;\n",
       "    }\n",
       "\n",
       "    .dataframe thead th {\n",
       "        text-align: right;\n",
       "    }\n",
       "</style>\n",
       "<table border=\"1\" class=\"dataframe\">\n",
       "  <thead>\n",
       "    <tr style=\"text-align: right;\">\n",
       "      <th></th>\n",
       "      <th>assessment</th>\n",
       "      <th>lower</th>\n",
       "      <th>higher</th>\n",
       "      <th>violation</th>\n",
       "    </tr>\n",
       "  </thead>\n",
       "  <tbody>\n",
       "    <tr>\n",
       "      <th>0</th>\n",
       "      <td>Quiz</td>\n",
       "      <td>1</td>\n",
       "      <td>4</td>\n",
       "      <td>Quiz weightage should be between 1% to 4%</td>\n",
       "    </tr>\n",
       "    <tr>\n",
       "      <th>1</th>\n",
       "      <td>Test</td>\n",
       "      <td>5</td>\n",
       "      <td>24</td>\n",
       "      <td>Test weightage should be between 5% to 24%</td>\n",
       "    </tr>\n",
       "    <tr>\n",
       "      <th>2</th>\n",
       "      <td>Exam</td>\n",
       "      <td>25</td>\n",
       "      <td>40</td>\n",
       "      <td>Exam weightage should be between 25% to 40%</td>\n",
       "    </tr>\n",
       "  </tbody>\n",
       "</table>\n",
       "</div>"
      ],
      "text/plain": [
       "  assessment  lower  higher                                    violation\n",
       "0       Quiz      1       4    Quiz weightage should be between 1% to 4%\n",
       "1       Test      5      24   Test weightage should be between 5% to 24%\n",
       "2       Exam     25      40  Exam weightage should be between 25% to 40%"
      ]
     },
     "execution_count": 8,
     "metadata": {},
     "output_type": "execute_result"
    }
   ],
   "source": [
    "rules_df"
   ]
  },
  {
   "cell_type": "code",
   "execution_count": 9,
   "id": "09f14e55",
   "metadata": {},
   "outputs": [
    {
     "data": {
      "text/plain": [
       "'Exam weightage should be between 25% to 40%'"
      ]
     },
     "execution_count": 9,
     "metadata": {},
     "output_type": "execute_result"
    }
   ],
   "source": [
    "rules_df[rules_df['assessment']=='Exam']['violation'].to_string(index=False)"
   ]
  },
  {
   "cell_type": "code",
   "execution_count": null,
   "id": "d628ca99",
   "metadata": {},
   "outputs": [],
   "source": []
  }
 ],
 "metadata": {
  "kernelspec": {
   "display_name": "Python 3 (ipykernel)",
   "language": "python",
   "name": "python3"
  },
  "language_info": {
   "codemirror_mode": {
    "name": "ipython",
    "version": 3
   },
   "file_extension": ".py",
   "mimetype": "text/x-python",
   "name": "python",
   "nbconvert_exporter": "python",
   "pygments_lexer": "ipython3",
   "version": "3.9.12"
  }
 },
 "nbformat": 4,
 "nbformat_minor": 5
}
