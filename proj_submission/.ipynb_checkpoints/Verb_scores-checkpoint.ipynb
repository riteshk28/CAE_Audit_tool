{
 "cells": [
  {
   "cell_type": "code",
   "execution_count": 1,
   "id": "d0c636bb",
   "metadata": {},
   "outputs": [],
   "source": [
    "import pandas as pd\n",
    "import PyPDF2"
   ]
  },
  {
   "cell_type": "code",
   "execution_count": 2,
   "id": "6ff124c3",
   "metadata": {},
   "outputs": [],
   "source": [
    "pdfFileObj = open('dab_502.pdf', 'rb')\n",
    "pdfReader = PyPDF2.PdfFileReader(pdfFileObj)"
   ]
  },
  {
   "cell_type": "code",
   "execution_count": 4,
   "id": "17834f1e",
   "metadata": {},
   "outputs": [
    {
     "data": {
      "text/plain": [
       "' \\n•Identify the independent and dependent variables from a set of variables\\n \\n•Question confounding variables and sources of bias in a given study\\n \\n•Distinguish between simple random, stratified, cluster, and multistage sampling\\n \\n•Identify the shape of a distribution as symmetric, right skewed, or left skewed, and\\nunimodal, bimodal, multimodal, or uniform\\n \\n•Recognize when transformations can make the distribution of data more symmetric, and hence\\neasier to model\\n \\n \\n•Use probability concepts and simulation to describe data samples. (CLO #2)\\nEKS:\\n•Calculate and interpret probabilities to provide basic interpretations of a data set\\n \\n•Use probability distributions to describe the behavior of discrete and continuous random\\nvariables\\n \\n \\n•Estimate population parameters using confidence intervals when appropriate (CLO #3)\\nEKS:\\n•Verify that the necessary conditions have been met for establishing population parameters\\n \\n•Define point estimates that can be used for decision making\\n \\n•Construct one- and two-sample confidence intervals for point estimates\\n \\n•Interpret confidence intervals in context of the given data\\n \\n \\n•Conduct tests of significance when appropriate to aid in decision making (CLO #4)\\nEKS:\\n•Carry out one- and two- sample hypothesis tests\\n \\n•Articulate appropriate hypotheses within the context of a given data\\n \\n•Explain type I and type II errors, in general, and in the context of the given data\\n \\n•Interpret the meanings of rejection of the null hypothesis and of failure to reject the\\nnull hypothesis\\n \\n•Use a p-value to reach an appropriate conclusion\\n \\n•Explain the difference between practical significance and statistical significance for the\\ngiven context and data\\n \\n \\nTeaching/Learning Activities:\\nLecture / Discussion, Guided Analysis, Individual / Group Class Exercises, Lab exercisesDAB 502 Advanced Statistics for Data Analytics\\n \\nPage  3 ©St. Clair College of Applied Arts and Technology Thursday, November 11, 2021'"
      ]
     },
     "execution_count": 4,
     "metadata": {},
     "output_type": "execute_result"
    }
   ],
   "source": [
    "# create page object and extract text\n",
    "\n",
    "pageObj = pdfReader.getPage(2)\n",
    "page1 = pageObj.extractText()\n",
    "page_blob = pageObj.extractText()\n",
    "page1"
   ]
  },
  {
   "cell_type": "code",
   "execution_count": 5,
   "id": "a9d22199",
   "metadata": {},
   "outputs": [],
   "source": [
    "page1 = page1.replace('\\n \\n \\n•','>>>').replace(')\\n \\n•', '>>>').replace('\\n \\n•', '>').replace('\\n•','>').replace('\\nEKS:', '')\n",
    "page1\n",
    "page1 = page1.split('>>>')\n",
    "del page1[0]\n",
    "i = 0\n",
    "sep = ' '\n",
    "clo1_verbs = []\n",
    "for j in range(len(page1)):\n",
    "    i += 1\n",
    "    globals()[\"clo\" + str(i)+\"_verbs\"] = page1[j].split('>')\n",
    "    for k in range(len([\"clo\" + str(i)+\"_verbs\"])):\n",
    "        globals()[\"clo\" + str(i)+\"_verbs\"] = [\"clo\" + str(i)+\"_verbs\"][k].split(sep, 1)[0]"
   ]
  },
  {
   "cell_type": "code",
   "execution_count": 6,
   "id": "e994730a",
   "metadata": {},
   "outputs": [
    {
     "data": {
      "text/plain": [
       "'clo1_verbs'"
      ]
     },
     "execution_count": 6,
     "metadata": {},
     "output_type": "execute_result"
    }
   ],
   "source": [
    "clo1_verbs"
   ]
  }
 ],
 "metadata": {
  "kernelspec": {
   "display_name": "Python 3 (ipykernel)",
   "language": "python",
   "name": "python3"
  },
  "language_info": {
   "codemirror_mode": {
    "name": "ipython",
    "version": 3
   },
   "file_extension": ".py",
   "mimetype": "text/x-python",
   "name": "python",
   "nbconvert_exporter": "python",
   "pygments_lexer": "ipython3",
   "version": "3.9.12"
  }
 },
 "nbformat": 4,
 "nbformat_minor": 5
}
