{
 "cells": [
  {
   "cell_type": "code",
   "execution_count": 1,
   "id": "9f653b00",
   "metadata": {},
   "outputs": [],
   "source": [
    "import pandas as pd\n",
    "import PyPDF2"
   ]
  },
  {
   "cell_type": "code",
   "execution_count": 3,
   "id": "ce4a9103",
   "metadata": {},
   "outputs": [],
   "source": [
    "pdfFileObj = open('dab_106.pdf', 'rb')\n",
    "pdfReader = PyPDF2.PdfFileReader(pdfFileObj)"
   ]
  },
  {
   "cell_type": "code",
   "execution_count": 4,
   "id": "d9b8629c",
   "metadata": {},
   "outputs": [],
   "source": [
    "# create page object and extract text\n",
    "pageObj = pdfReader.getPage(3)\n",
    "page1 = pageObj.extractText()\n",
    "page_blob = pageObj.extractText()\n"
   ]
  },
  {
   "cell_type": "code",
   "execution_count": 5,
   "id": "f7867e04",
   "metadata": {},
   "outputs": [],
   "source": [
    "output = \"\"\n",
    "for i in range(pdfReader.numPages):\n",
    "    pageObj = pdfReader.getPage(i)\n",
    "    output += pageObj.extractText()"
   ]
  },
  {
   "cell_type": "code",
   "execution_count": 6,
   "id": "a00b5e47",
   "metadata": {},
   "outputs": [],
   "source": [
    "page1 = output"
   ]
  },
  {
   "cell_type": "code",
   "execution_count": 7,
   "id": "9219e979",
   "metadata": {},
   "outputs": [
    {
     "data": {
      "text/plain": [
       "'Course ID: 030277 Academic Year: 2021/22\\nCourse Description:\\nThis course provides students with a high-level overview of the broad field of Artificial\\nIntelligence (AI). Students will explore some basic definitions and concepts and will learn to\\ndistinguish between the various branches that make up AI.\\xa0 This course outlines the history of AI,\\nfocusing on major developments and reasons behind its current resurgence.\\xa0 The bulk of the course\\nwill be spent on understanding the core elements of AI systems.\\nPre-Requisites: Category: Vocational None\\nCo-Requisites: Course Credits: 3.00 None\\nSpecial Conditions: Academic Level: Credit (Post Sec) None\\nInstructional Hours: Classroom Instruction 30\\nLaboratory/Workshops 15\\nOther 0\\nTotal Hours 45\\nAcademic Department:\\nWindsor: Zekelman School of Information Technology\\n      Chair:\\nChatham:\\n      Chair:\\nRevised By: Harpreet Virk\\nLast Revision: 2022/01/20\\nCourse Outline\\nDAB 106 Introduction to Artificial Intelligence\\nPage  1 ©St. Clair College of Applied Arts and Technology Thursday, September 01, 2022Required Tools, Equipment, and Learning Resources:\\n- Intel I7 or AMD A10 processor or better with chipset that must\\nsupport virtualization\\n· 16 GB of RAM\\n· 1 TB hard drive\\n· Ethernet Network Card\\n· Wireless Network Card\\n· One USB 3.0 port (two preferred)\\n· 3 Yr comprehensive parts and labour (Recommended)\\nThe text book(s) will be part of the course material.\\nSoftware requirements\\n· Windows 10 Professional Edition\\nEssential Employability Skills (EES):\\n \\nDescription Teach Assess\\n ✗ ✗ 1)Communication: Communicate clearly, concisely and\\ncorrectly in the written, spoken, and visual form that\\nfulfills the purpose and meets the needs of the\\naudience.\\n 2)Communication: Respond to written, spoken, or visual\\nmessages in a manner that ensures effective\\ncommunication\\n 3)Numeracy: Execute mathematical operations accurately\\n ✗ ✗ 4)Critical Thinking: Apply a systematic approach to solve\\nproblems\\n ✗ ✗ 5)Critical Thinking: Use a variety of thinking skills to\\nanticipate and solve problems\\n 6)Information Management: Locate, select, organize, and\\ndocument information using appropriate technology and\\ninformation systems\\n ✗ ✗ 7)Information Management: Analyze, evaluate and apply\\nrelevant information from a variety of sources\\n ✗ ✗ 8)Interpersonal: Show respect for the diverse opinions,\\nvalues, belief systems, and contributions of others\\n ✗ ✗ 9)Interpersonal: Interact with others in groups or teams\\nin ways that contribute to effective working\\nrelationships and the achievement of goals\\n ✗ ✗ 10)Personal: Manage the use of time and other resources to\\ncomplete projects\\n 11)Personal: Take responsibility for one\\'s own actions,\\ndecision and consequences\\n \\nCourse Learning Outcomes (CLO):DAB 106 Introduction to Artificial Intelligence\\n \\nPage  2 ©St. Clair College of Applied Arts and Technology Thursday, September 01, 2022Upon successful completion of this course, the student will be able to:\\n(EKS = Embedded Knowledge and Skills)\\n \\n•Examine the key components of Artificial Intelligence (AI) systems (CLO #1)\\nEKS:\\n•Provide definitions, Concepts, Terminology, and examples of artificial intelligence\\n \\n•Explain What AI is, why it\\'s important, and how AI will impact the different industry\\nsectors and society as a whole.\\n \\n•Discuss the tools, technology, and trends driving the AI revolution.\\n \\n•Discuss intelligent agent, environment, and state\\n \\n•Describe applications of AI and what it takes to introduce AI to an organization\\nsuccessfully.\\n \\n \\n•Summarize the fundamental philosophical/ethical issues, strategy, workloads, and\\nconsiderations related to the development and application of Artificial Intelligence (CLO\\n#2)\\nEKS:\\n•Identify features of common AI workloads\\n \\n•Discuss explainable AI (XAI) and it is the importance\\n \\n•Explain the importance of ethical implementations and how to avoid bias in AI\\n \\n•Identify guiding principles for responsible AI\\n \\n \\n•Describe fundamental principles of machine learning (CLO #3)\\nEKS:\\n•Identify common machine learning types\\n \\n•Describe core machine learning concepts\\n \\n•Identify core tasks in creating a machine learning solution\\n \\n•Describe capabilities of no-code machine learning with Azure Machine Learning studio\\n \\n \\n•Describe features of computer vision, Natural Language Processing, and conversational\\nworkloads on Azure (CLO #4)\\nEKS:\\n•Discuss common types of the computer vision solution\\n \\n•Explain Azure tools and services for computer vision tasks\\n \\n•Identify features and uses for key phrase extraction, entity recognition, sentiment\\nanalysis, translation\\n \\n•Identify tools and services capabilities of the Text Analytics service, LUIS, Speech\\nservice and Translator Text service\\n \\n•Discuss everyday use cases for conversational AI\\n \\n•Identify Azure services for conversational AI\\n \\n \\n•Analyze current applications of Artificial Intelligence (CLO #5)DAB 106 Introduction to Artificial Intelligence\\n \\nPage  3 ©St. Clair College of Applied Arts and Technology Thursday, September 01, 2022EKS:\\n•Outline the problem being solved\\n \\n•Describe the AI solution\\n \\n•Explain the core AI concepts being implemented\\n \\n•Gauge the impact of this solution on the business or organization\\n \\n \\nTeaching/Learning Activities:\\nLecture / Discussion\\nIndividual / Group Classroom Exercises\\nAssessment:\\nStandard/Traditional Delivery\\nOverall Assessment Notes: Lecture / Discussion\\nIndividual / Group Classroom Exercises\\n \\n  20.00% •Assignments\\n \\nFrequency: 4-6\\n Description: Independent/group research, writing, or coding assignments\\nwhereby the student can demonstrate an appropriate understanding\\nof the course concepts.\\n Outcomes Assessed: 1, 2, 3, 4, 5\\nEES Assessed: 1, 5, 7, 8, 9, 10\\n  25.00% •Exam 1\\n \\nFrequency: 1\\n Description: The exam will contain application exercises, including\\nmultiple-choice questions, true/false, and short answer\\nquestions.\\n Outcomes Assessed: 1, 2, 3\\nEES Assessed: 1, 5, 7\\n  25.00% •Final Exam\\n \\nFrequency: 1\\n Description: A final exam that covers all the concepts presented throughout\\nthe semester. Multiple choice and short answer.\\n Outcomes Assessed: 1, 2, 3, 4, 5\\nEES Assessed: 1, 5, 7\\n  20.00% •Project\\n \\nFrequency: 2\\n Description: Independent/group hands-on project that involves implementing\\nelements of artificial intelligence in code and/or hardware.\\nStudent(s) will demonstrate an appropriate level of understanding\\nof the course concepts by writing a detailed project report.\\n Outcomes Assessed: 1, 2, 3, 4, 5\\nEES Assessed: 1, 5, 7, 9, 10\\n  10.00% •Quizzes\\n \\nFrequency: 5-7DAB 106 Introduction to Artificial Intelligence\\n \\nPage  4 ©St. Clair College of Applied Arts and Technology Thursday, September 01, 2022 Description: Short in-class assignments/questions based on lecture content,\\nassigned reading, and homework on a given topic will be\\nadministered in class; 3-5 questions.\\n Outcomes Assessed: 1, 2, 3, 4, 5\\nEES Assessed: 1, 5, 7\\n _____\\n100%\\nNote: The assessment listed in this outline represents the planned assessment method for this course.\\nUnanticipated conditions during the delivery of the course may necessitate changes to the planned\\nassessment.  Students will receive reasonable advance notice should any changes be necessary.\\n \\n \\nGrading:\\nA=80-100%\\nB=70-79%\\nC=60-69%\\nD=50-59%\\nF=Less than 50%\\nCourse Content:\\n\"Academic misconduct, including cheating of any form, will not be tolerated.  Consequences may include, but are\\nnot limited to, a warning, a grade of \"0\" on the assignment/test/examination, or a failing grade in the course.\"\\n(Code of Students Rights and Responsibilities:  Section 7.1.6)\\nAll students and employees of this College have a right to study and work in an environment that is free from\\nharassment and discrimination.\\nAccommodation Statement\\nThe College will provide supports and services to all students with disabilities, both temporary and permanent, with valid supporting documentation.  Interim\\naccommodation requests will be received in good faith and can be provided pending receipt of medical documentation.  Retroactive accommodations will be\\nconsidered based on the unique circumstances of the individual matter.  The College will give all Human Rights Code-related requests for accommodation\\nmeaningful consideration.\\nProcedure:  The student is responsible to meet with a counsellor in Accessibility Services to discuss their functional limitations and accommodation needs \\nand provide Accessibility Services with supporting documentation.  Students are not required under the Ontario Human Rights Code to disclose their \\ndisability diagnosis (with the exception of Learning Disabilities) to receive accessibility supports and services and/or academic accommodations.  \\nStudents are encouraged to meet with a counsellor prior to the start of a semester to provide information and arrange accommodations.DAB 106 Introduction to Artificial Intelligence\\n \\nPage  5 ©St. Clair College of Applied Arts and Technology Thursday, September 01, 2022'"
      ]
     },
     "execution_count": 7,
     "metadata": {},
     "output_type": "execute_result"
    }
   ],
   "source": [
    "page1"
   ]
  },
  {
   "cell_type": "code",
   "execution_count": 8,
   "id": "8894b874",
   "metadata": {},
   "outputs": [
    {
     "data": {
      "text/plain": [
       "'DAB 106 Introduction to Artificial Intelligence'"
      ]
     },
     "execution_count": 8,
     "metadata": {},
     "output_type": "execute_result"
    }
   ],
   "source": [
    "course_name = page1.replace('\\n \\n',', ').replace('\\n','')\n",
    "course_name = course_name.split('Course Outline')\n",
    "course_name = course_name[1].split('Page  1')\n",
    "course_name = course_name[0]\n",
    "course_name"
   ]
  },
  {
   "cell_type": "code",
   "execution_count": 9,
   "id": "e38da8f3",
   "metadata": {},
   "outputs": [],
   "source": [
    "# strip away page header\n",
    "page1 = page1[25:]\n",
    "\n",
    "# insert commas to separate variables and then remove excess strings\n",
    "page1 = page1.replace('\\n \\n',', ').replace('\\n','')\n"
   ]
  },
  {
   "cell_type": "code",
   "execution_count": 10,
   "id": "d23f5865",
   "metadata": {},
   "outputs": [],
   "source": [
    "page1 = page1.split(',')\n"
   ]
  },
  {
   "cell_type": "code",
   "execution_count": 11,
   "id": "b7ba29eb",
   "metadata": {},
   "outputs": [
    {
     "data": {
      "text/html": [
       "<div>\n",
       "<style scoped>\n",
       "    .dataframe tbody tr th:only-of-type {\n",
       "        vertical-align: middle;\n",
       "    }\n",
       "\n",
       "    .dataframe tbody tr th {\n",
       "        vertical-align: top;\n",
       "    }\n",
       "\n",
       "    .dataframe thead th {\n",
       "        text-align: right;\n",
       "    }\n",
       "</style>\n",
       "<table border=\"1\" class=\"dataframe\">\n",
       "  <thead>\n",
       "    <tr style=\"text-align: right;\">\n",
       "      <th></th>\n",
       "      <th>Object</th>\n",
       "      <th>Weight</th>\n",
       "      <th>Frequency</th>\n",
       "    </tr>\n",
       "  </thead>\n",
       "  <tbody>\n",
       "    <tr>\n",
       "      <th>1</th>\n",
       "      <td>None</td>\n",
       "      <td>3.00</td>\n",
       "      <td>None</td>\n",
       "    </tr>\n",
       "    <tr>\n",
       "      <th>25</th>\n",
       "      <td>Exam</td>\n",
       "      <td>None</td>\n",
       "      <td>None</td>\n",
       "    </tr>\n",
       "    <tr>\n",
       "      <th>71</th>\n",
       "      <td>Assignments</td>\n",
       "      <td>20.00</td>\n",
       "      <td>None</td>\n",
       "    </tr>\n",
       "    <tr>\n",
       "      <th>72</th>\n",
       "      <td>None</td>\n",
       "      <td>None</td>\n",
       "      <td>Frequency: 4</td>\n",
       "    </tr>\n",
       "    <tr>\n",
       "      <th>83</th>\n",
       "      <td>Exam 1</td>\n",
       "      <td>25.00</td>\n",
       "      <td>None</td>\n",
       "    </tr>\n",
       "    <tr>\n",
       "      <th>84</th>\n",
       "      <td>None</td>\n",
       "      <td>None</td>\n",
       "      <td>Frequency: 1</td>\n",
       "    </tr>\n",
       "    <tr>\n",
       "      <th>91</th>\n",
       "      <td>Final Exam</td>\n",
       "      <td>25.00</td>\n",
       "      <td>None</td>\n",
       "    </tr>\n",
       "    <tr>\n",
       "      <th>92</th>\n",
       "      <td>None</td>\n",
       "      <td>None</td>\n",
       "      <td>Frequency: 1</td>\n",
       "    </tr>\n",
       "    <tr>\n",
       "      <th>98</th>\n",
       "      <td>Project</td>\n",
       "      <td>20.00</td>\n",
       "      <td>None</td>\n",
       "    </tr>\n",
       "    <tr>\n",
       "      <th>99</th>\n",
       "      <td>None</td>\n",
       "      <td>None</td>\n",
       "      <td>Frequency: 2</td>\n",
       "    </tr>\n",
       "    <tr>\n",
       "      <th>107</th>\n",
       "      <td>Quizzes</td>\n",
       "      <td>10.00</td>\n",
       "      <td>None</td>\n",
       "    </tr>\n",
       "    <tr>\n",
       "      <th>108</th>\n",
       "      <td>None</td>\n",
       "      <td>None</td>\n",
       "      <td>Frequency: 5</td>\n",
       "    </tr>\n",
       "  </tbody>\n",
       "</table>\n",
       "</div>"
      ],
      "text/plain": [
       "          Object Weight     Frequency\n",
       "1           None   3.00          None\n",
       "25          Exam   None          None\n",
       "71   Assignments  20.00          None\n",
       "72          None   None  Frequency: 4\n",
       "83        Exam 1  25.00          None\n",
       "84          None   None  Frequency: 1\n",
       "91    Final Exam  25.00          None\n",
       "92          None   None  Frequency: 1\n",
       "98       Project  20.00          None\n",
       "99          None   None  Frequency: 2\n",
       "107      Quizzes  10.00          None\n",
       "108         None   None  Frequency: 5"
      ]
     },
     "execution_count": 11,
     "metadata": {},
     "output_type": "execute_result"
    }
   ],
   "source": [
    "s = pd.Series(page1)\n",
    "out = (s.str.extractall(r'(?P<Object>Assignments|Exam 1|Exam 2|Exam 3|Exam|Project|Quizzes|Final Exam)|(?P<Weight>\\d+.00)|(?P<Frequency>Frequency: \\d+)')\n",
    "       .groupby(level=0).first()\n",
    "       )\n",
    "df = pd.DataFrame(out)\n",
    "df"
   ]
  },
  {
   "cell_type": "code",
   "execution_count": 12,
   "id": "6d7027d4",
   "metadata": {},
   "outputs": [
    {
     "data": {
      "text/plain": [
       "\"out = (pd.Series(page1)\\n       .str.extract(r'(?P<Weight>\\\\d+.00%)\\\\W*(?P<Object>\\\\w+)')\\n       .dropna(subset='Object')\\n      )\\n\\nprint(out)\""
      ]
     },
     "execution_count": 12,
     "metadata": {},
     "output_type": "execute_result"
    }
   ],
   "source": [
    "'''out = (pd.Series(page1)\n",
    "       .str.extract(r'(?P<Weight>\\d+.00%)\\W*(?P<Object>\\w+)')\n",
    "       .dropna(subset='Object')\n",
    "      )\n",
    "\n",
    "print(out)'''"
   ]
  },
  {
   "cell_type": "code",
   "execution_count": 13,
   "id": "be856391",
   "metadata": {},
   "outputs": [],
   "source": [
    "df['Frequency'] = df.Frequency.shift(-1)\n",
    "#df"
   ]
  },
  {
   "cell_type": "code",
   "execution_count": 14,
   "id": "7b857806",
   "metadata": {},
   "outputs": [],
   "source": [
    "df = df.dropna()\n",
    "#df"
   ]
  },
  {
   "cell_type": "code",
   "execution_count": 15,
   "id": "632d27cf",
   "metadata": {},
   "outputs": [
    {
     "data": {
      "text/html": [
       "<div>\n",
       "<style scoped>\n",
       "    .dataframe tbody tr th:only-of-type {\n",
       "        vertical-align: middle;\n",
       "    }\n",
       "\n",
       "    .dataframe tbody tr th {\n",
       "        vertical-align: top;\n",
       "    }\n",
       "\n",
       "    .dataframe thead th {\n",
       "        text-align: right;\n",
       "    }\n",
       "</style>\n",
       "<table border=\"1\" class=\"dataframe\">\n",
       "  <thead>\n",
       "    <tr style=\"text-align: right;\">\n",
       "      <th></th>\n",
       "      <th>Object</th>\n",
       "      <th>Weight</th>\n",
       "      <th>Frequency</th>\n",
       "    </tr>\n",
       "  </thead>\n",
       "  <tbody>\n",
       "    <tr>\n",
       "      <th>71</th>\n",
       "      <td>Assignments</td>\n",
       "      <td>20.00</td>\n",
       "      <td>Frequency: 4</td>\n",
       "    </tr>\n",
       "    <tr>\n",
       "      <th>83</th>\n",
       "      <td>Exam 1</td>\n",
       "      <td>25.00</td>\n",
       "      <td>Frequency: 1</td>\n",
       "    </tr>\n",
       "    <tr>\n",
       "      <th>91</th>\n",
       "      <td>Final Exam</td>\n",
       "      <td>25.00</td>\n",
       "      <td>Frequency: 1</td>\n",
       "    </tr>\n",
       "    <tr>\n",
       "      <th>98</th>\n",
       "      <td>Project</td>\n",
       "      <td>20.00</td>\n",
       "      <td>Frequency: 2</td>\n",
       "    </tr>\n",
       "    <tr>\n",
       "      <th>107</th>\n",
       "      <td>Quizzes</td>\n",
       "      <td>10.00</td>\n",
       "      <td>Frequency: 5</td>\n",
       "    </tr>\n",
       "  </tbody>\n",
       "</table>\n",
       "</div>"
      ],
      "text/plain": [
       "          Object Weight     Frequency\n",
       "71   Assignments  20.00  Frequency: 4\n",
       "83        Exam 1  25.00  Frequency: 1\n",
       "91    Final Exam  25.00  Frequency: 1\n",
       "98       Project  20.00  Frequency: 2\n",
       "107      Quizzes  10.00  Frequency: 5"
      ]
     },
     "execution_count": 15,
     "metadata": {},
     "output_type": "execute_result"
    }
   ],
   "source": [
    "df"
   ]
  },
  {
   "cell_type": "code",
   "execution_count": 16,
   "id": "d329d3ad",
   "metadata": {},
   "outputs": [
    {
     "name": "stderr",
     "output_type": "stream",
     "text": [
      "C:\\Users\\rites\\AppData\\Local\\Temp\\ipykernel_9172\\1332641898.py:1: SettingWithCopyWarning: \n",
      "A value is trying to be set on a copy of a slice from a DataFrame.\n",
      "Try using .loc[row_indexer,col_indexer] = value instead\n",
      "\n",
      "See the caveats in the documentation: https://pandas.pydata.org/pandas-docs/stable/user_guide/indexing.html#returning-a-view-versus-a-copy\n",
      "  df['Frequency'] = df['Frequency'].str.extract('(\\d+)').astype(int)\n",
      "C:\\Users\\rites\\AppData\\Local\\Temp\\ipykernel_9172\\1332641898.py:2: SettingWithCopyWarning: \n",
      "A value is trying to be set on a copy of a slice from a DataFrame.\n",
      "Try using .loc[row_indexer,col_indexer] = value instead\n",
      "\n",
      "See the caveats in the documentation: https://pandas.pydata.org/pandas-docs/stable/user_guide/indexing.html#returning-a-view-versus-a-copy\n",
      "  df['Weight'] = df['Weight'].astype(float)\n"
     ]
    }
   ],
   "source": [
    "df['Frequency'] = df['Frequency'].str.extract('(\\d+)').astype(int)\n",
    "df['Weight'] = df['Weight'].astype(float)\n",
    "#df"
   ]
  },
  {
   "cell_type": "code",
   "execution_count": 17,
   "id": "e468a01c",
   "metadata": {
    "scrolled": true
   },
   "outputs": [
    {
     "name": "stderr",
     "output_type": "stream",
     "text": [
      "C:\\Users\\rites\\AppData\\Local\\Temp\\ipykernel_9172\\3609157279.py:1: SettingWithCopyWarning: \n",
      "A value is trying to be set on a copy of a slice from a DataFrame.\n",
      "Try using .loc[row_indexer,col_indexer] = value instead\n",
      "\n",
      "See the caveats in the documentation: https://pandas.pydata.org/pandas-docs/stable/user_guide/indexing.html#returning-a-view-versus-a-copy\n",
      "  df['Weight per Object'] = df.Weight/df.Frequency\n"
     ]
    }
   ],
   "source": [
    "df['Weight per Object'] = df.Weight/df.Frequency"
   ]
  },
  {
   "cell_type": "code",
   "execution_count": 38,
   "id": "ab276ea1",
   "metadata": {},
   "outputs": [],
   "source": [
    "Exam = \"Exam is less than 25% or more than 40%\"\n",
    "Quize = \"Quiz weightage greater than 5%\"\n",
    "Test = \"Test is less than 5% or more than 24%\"\n",
    "cols = ['Exam', 'Quize', 'Test']"
   ]
  },
  {
   "cell_type": "code",
   "execution_count": 39,
   "id": "2992ceb4",
   "metadata": {},
   "outputs": [],
   "source": [
    "Rule_Violation = {\"c1\":cols,\"Rules\":[Exam,Quize,Test]}"
   ]
  },
  {
   "cell_type": "code",
   "execution_count": 40,
   "id": "b9a540c1",
   "metadata": {},
   "outputs": [
    {
     "data": {
      "text/plain": [
       "{'c1': ['Exam', 'Quize', 'Test'],\n",
       " 'Rules': ['Exam is less than 25% or more than 40%',\n",
       "  'Quiz weightage greater than 5%',\n",
       "  'Test is less than 5% or more than 24%']}"
      ]
     },
     "execution_count": 40,
     "metadata": {},
     "output_type": "execute_result"
    }
   ],
   "source": [
    "Rule_Violation"
   ]
  },
  {
   "cell_type": "code",
   "execution_count": 41,
   "id": "74420933",
   "metadata": {},
   "outputs": [
    {
     "data": {
      "text/html": [
       "<div>\n",
       "<style scoped>\n",
       "    .dataframe tbody tr th:only-of-type {\n",
       "        vertical-align: middle;\n",
       "    }\n",
       "\n",
       "    .dataframe tbody tr th {\n",
       "        vertical-align: top;\n",
       "    }\n",
       "\n",
       "    .dataframe thead th {\n",
       "        text-align: right;\n",
       "    }\n",
       "</style>\n",
       "<table border=\"1\" class=\"dataframe\">\n",
       "  <thead>\n",
       "    <tr style=\"text-align: right;\">\n",
       "      <th></th>\n",
       "      <th>c1</th>\n",
       "      <th>Rules</th>\n",
       "    </tr>\n",
       "  </thead>\n",
       "  <tbody>\n",
       "    <tr>\n",
       "      <th>0</th>\n",
       "      <td>Exam</td>\n",
       "      <td>Exam is less than 25% or more than 40%</td>\n",
       "    </tr>\n",
       "    <tr>\n",
       "      <th>1</th>\n",
       "      <td>Quize</td>\n",
       "      <td>Quiz weightage greater than 5%</td>\n",
       "    </tr>\n",
       "    <tr>\n",
       "      <th>2</th>\n",
       "      <td>Test</td>\n",
       "      <td>Test is less than 5% or more than 24%</td>\n",
       "    </tr>\n",
       "  </tbody>\n",
       "</table>\n",
       "</div>"
      ],
      "text/plain": [
       "      c1                                   Rules\n",
       "0   Exam  Exam is less than 25% or more than 40%\n",
       "1  Quize          Quiz weightage greater than 5%\n",
       "2   Test   Test is less than 5% or more than 24%"
      ]
     },
     "execution_count": 41,
     "metadata": {},
     "output_type": "execute_result"
    }
   ],
   "source": [
    "Rule_Violation = pd.DataFrame(Rule_Violation)\n",
    "Rule_Violation"
   ]
  },
  {
   "cell_type": "code",
   "execution_count": 42,
   "id": "ffb7f077",
   "metadata": {},
   "outputs": [
    {
     "name": "stderr",
     "output_type": "stream",
     "text": [
      "C:\\Users\\rites\\AppData\\Local\\Temp\\ipykernel_9172\\834351203.py:1: SettingWithCopyWarning: \n",
      "A value is trying to be set on a copy of a slice from a DataFrame.\n",
      "Try using .loc[row_indexer,col_indexer] = value instead\n",
      "\n",
      "See the caveats in the documentation: https://pandas.pydata.org/pandas-docs/stable/user_guide/indexing.html#returning-a-view-versus-a-copy\n",
      "  df['Flag'] = ((df['Object'].str.contains('Quiz', regex=True)) & (abs(df['Weight per Object']) <= 4)) | ((df['Object'].str.contains('Exam', regex=True)) & (df['Weight per Object'] >= 25) & (df['Weight per Object'] <= 40)) | ((df['Object'].str.contains('Test', regex=True)) & (df['Weight per Object'] >= 5) & (df['Weight per Object'] <= 24))\n"
     ]
    },
    {
     "data": {
      "text/html": [
       "<div>\n",
       "<style scoped>\n",
       "    .dataframe tbody tr th:only-of-type {\n",
       "        vertical-align: middle;\n",
       "    }\n",
       "\n",
       "    .dataframe tbody tr th {\n",
       "        vertical-align: top;\n",
       "    }\n",
       "\n",
       "    .dataframe thead th {\n",
       "        text-align: right;\n",
       "    }\n",
       "</style>\n",
       "<table border=\"1\" class=\"dataframe\">\n",
       "  <thead>\n",
       "    <tr style=\"text-align: right;\">\n",
       "      <th></th>\n",
       "      <th>Object</th>\n",
       "      <th>Weight</th>\n",
       "      <th>Frequency</th>\n",
       "      <th>Weight per Object</th>\n",
       "      <th>Flag</th>\n",
       "    </tr>\n",
       "  </thead>\n",
       "  <tbody>\n",
       "    <tr>\n",
       "      <th>71</th>\n",
       "      <td>Assignments</td>\n",
       "      <td>20.0</td>\n",
       "      <td>4</td>\n",
       "      <td>5.0</td>\n",
       "      <td>False</td>\n",
       "    </tr>\n",
       "    <tr>\n",
       "      <th>83</th>\n",
       "      <td>Exam 1</td>\n",
       "      <td>25.0</td>\n",
       "      <td>1</td>\n",
       "      <td>25.0</td>\n",
       "      <td>True</td>\n",
       "    </tr>\n",
       "    <tr>\n",
       "      <th>91</th>\n",
       "      <td>Final Exam</td>\n",
       "      <td>25.0</td>\n",
       "      <td>1</td>\n",
       "      <td>25.0</td>\n",
       "      <td>True</td>\n",
       "    </tr>\n",
       "    <tr>\n",
       "      <th>98</th>\n",
       "      <td>Project</td>\n",
       "      <td>20.0</td>\n",
       "      <td>2</td>\n",
       "      <td>10.0</td>\n",
       "      <td>False</td>\n",
       "    </tr>\n",
       "    <tr>\n",
       "      <th>107</th>\n",
       "      <td>Quizzes</td>\n",
       "      <td>10.0</td>\n",
       "      <td>5</td>\n",
       "      <td>2.0</td>\n",
       "      <td>True</td>\n",
       "    </tr>\n",
       "  </tbody>\n",
       "</table>\n",
       "</div>"
      ],
      "text/plain": [
       "          Object  Weight  Frequency  Weight per Object   Flag\n",
       "71   Assignments    20.0          4                5.0  False\n",
       "83        Exam 1    25.0          1               25.0   True\n",
       "91    Final Exam    25.0          1               25.0   True\n",
       "98       Project    20.0          2               10.0  False\n",
       "107      Quizzes    10.0          5                2.0   True"
      ]
     },
     "execution_count": 42,
     "metadata": {},
     "output_type": "execute_result"
    }
   ],
   "source": [
    "df['Flag'] = ((df['Object'].str.contains('Quiz', regex=True)) & (abs(df['Weight per Object']) <= 4)) | ((df['Object'].str.contains('Exam', regex=True)) & (df['Weight per Object'] >= 25) & (df['Weight per Object'] <= 40)) | ((df['Object'].str.contains('Test', regex=True)) & (df['Weight per Object'] >= 5) & (df['Weight per Object'] <= 24))\n",
    "df"
   ]
  },
  {
   "cell_type": "code",
   "execution_count": 63,
   "id": "b81fa8ce",
   "metadata": {},
   "outputs": [
    {
     "data": {
      "text/plain": [
       "'Exam is less than 25% or more than 40%'"
      ]
     },
     "execution_count": 63,
     "metadata": {},
     "output_type": "execute_result"
    }
   ],
   "source": [
    "Rule_Violation[Rule_Violation['c1']=='Exam']['Rules'].to_string(index=False)"
   ]
  },
  {
   "cell_type": "code",
   "execution_count": 64,
   "id": "464fa6e3",
   "metadata": {},
   "outputs": [],
   "source": [
    "list = []\n",
    "for i in df['Object']:\n",
    "    if 'Exam' in i:\n",
    "        list.append(Rule_Violation[Rule_Violation['c1']=='Exam']['Rules'].to_string(index=False))\n",
    "    elif 'Quize' in i:\n",
    "        list.append(Rule_Violation[Rule_Violation['c1']=='Quize']['Rules'].to_string(index=False))\n",
    "    elif 'Test' in i:\n",
    "        list.append(Rule_Violation[Rule_Violation['c1']=='Test']['Rules'].to_string(index=False))\n",
    "    else:\n",
    "        list.append(0)"
   ]
  },
  {
   "cell_type": "code",
   "execution_count": 66,
   "id": "95230bd1",
   "metadata": {},
   "outputs": [
    {
     "name": "stderr",
     "output_type": "stream",
     "text": [
      "C:\\Users\\rites\\AppData\\Local\\Temp\\ipykernel_9172\\3280556087.py:1: SettingWithCopyWarning: \n",
      "A value is trying to be set on a copy of a slice from a DataFrame.\n",
      "Try using .loc[row_indexer,col_indexer] = value instead\n",
      "\n",
      "See the caveats in the documentation: https://pandas.pydata.org/pandas-docs/stable/user_guide/indexing.html#returning-a-view-versus-a-copy\n",
      "  df['Violation'] = list\n"
     ]
    }
   ],
   "source": [
    "df['Violation'] = list"
   ]
  },
  {
   "cell_type": "code",
   "execution_count": 67,
   "id": "c982cfab",
   "metadata": {},
   "outputs": [
    {
     "data": {
      "text/html": [
       "<div>\n",
       "<style scoped>\n",
       "    .dataframe tbody tr th:only-of-type {\n",
       "        vertical-align: middle;\n",
       "    }\n",
       "\n",
       "    .dataframe tbody tr th {\n",
       "        vertical-align: top;\n",
       "    }\n",
       "\n",
       "    .dataframe thead th {\n",
       "        text-align: right;\n",
       "    }\n",
       "</style>\n",
       "<table border=\"1\" class=\"dataframe\">\n",
       "  <thead>\n",
       "    <tr style=\"text-align: right;\">\n",
       "      <th></th>\n",
       "      <th>Object</th>\n",
       "      <th>Weight</th>\n",
       "      <th>Frequency</th>\n",
       "      <th>Weight per Object</th>\n",
       "      <th>Flag</th>\n",
       "      <th>Violation</th>\n",
       "    </tr>\n",
       "  </thead>\n",
       "  <tbody>\n",
       "    <tr>\n",
       "      <th>71</th>\n",
       "      <td>Assignments</td>\n",
       "      <td>20.0</td>\n",
       "      <td>4</td>\n",
       "      <td>5.0</td>\n",
       "      <td>False</td>\n",
       "      <td>0</td>\n",
       "    </tr>\n",
       "    <tr>\n",
       "      <th>83</th>\n",
       "      <td>Exam 1</td>\n",
       "      <td>25.0</td>\n",
       "      <td>1</td>\n",
       "      <td>25.0</td>\n",
       "      <td>True</td>\n",
       "      <td>Exam is less than 25% or more than 40%</td>\n",
       "    </tr>\n",
       "    <tr>\n",
       "      <th>91</th>\n",
       "      <td>Final Exam</td>\n",
       "      <td>25.0</td>\n",
       "      <td>1</td>\n",
       "      <td>25.0</td>\n",
       "      <td>True</td>\n",
       "      <td>Exam is less than 25% or more than 40%</td>\n",
       "    </tr>\n",
       "    <tr>\n",
       "      <th>98</th>\n",
       "      <td>Project</td>\n",
       "      <td>20.0</td>\n",
       "      <td>2</td>\n",
       "      <td>10.0</td>\n",
       "      <td>False</td>\n",
       "      <td>0</td>\n",
       "    </tr>\n",
       "    <tr>\n",
       "      <th>107</th>\n",
       "      <td>Quizzes</td>\n",
       "      <td>10.0</td>\n",
       "      <td>5</td>\n",
       "      <td>2.0</td>\n",
       "      <td>True</td>\n",
       "      <td>0</td>\n",
       "    </tr>\n",
       "  </tbody>\n",
       "</table>\n",
       "</div>"
      ],
      "text/plain": [
       "          Object  Weight  Frequency  Weight per Object   Flag  \\\n",
       "71   Assignments    20.0          4                5.0  False   \n",
       "83        Exam 1    25.0          1               25.0   True   \n",
       "91    Final Exam    25.0          1               25.0   True   \n",
       "98       Project    20.0          2               10.0  False   \n",
       "107      Quizzes    10.0          5                2.0   True   \n",
       "\n",
       "                                  Violation  \n",
       "71                                        0  \n",
       "83   Exam is less than 25% or more than 40%  \n",
       "91   Exam is less than 25% or more than 40%  \n",
       "98                                        0  \n",
       "107                                       0  "
      ]
     },
     "execution_count": 67,
     "metadata": {},
     "output_type": "execute_result"
    }
   ],
   "source": [
    "df"
   ]
  },
  {
   "cell_type": "code",
   "execution_count": 17,
   "id": "2902a73d",
   "metadata": {},
   "outputs": [
    {
     "name": "stderr",
     "output_type": "stream",
     "text": [
      "C:\\Users\\rites\\AppData\\Local\\Temp\\ipykernel_6916\\848595481.py:1: SettingWithCopyWarning: \n",
      "A value is trying to be set on a copy of a slice from a DataFrame.\n",
      "Try using .loc[row_indexer,col_indexer] = value instead\n",
      "\n",
      "See the caveats in the documentation: https://pandas.pydata.org/pandas-docs/stable/user_guide/indexing.html#returning-a-view-versus-a-copy\n",
      "  df['Desc'] = str(df['Weight']) + str(\"Hello\")\n"
     ]
    }
   ],
   "source": [
    "df['Desc'] = str(df['Weight']) + str(\"Hello\")"
   ]
  },
  {
   "cell_type": "code",
   "execution_count": 15,
   "id": "12469466",
   "metadata": {},
   "outputs": [],
   "source": [
    "#print(df[df['Flag']==False])"
   ]
  },
  {
   "cell_type": "code",
   "execution_count": 16,
   "id": "a7cd0f7e",
   "metadata": {},
   "outputs": [],
   "source": [
    "output = \"\"\n",
    "for i in range(pdfReader.numPages):\n",
    "    pageObj = pdfReader.getPage(i)\n",
    "    output += pageObj.extractText()\n",
    "page1 = output"
   ]
  },
  {
   "cell_type": "code",
   "execution_count": 17,
   "id": "5d114486",
   "metadata": {},
   "outputs": [],
   "source": [
    "page1 = page1.replace('\\n \\n \\n•','>>>').replace(')\\n \\n•', '>>>').replace('\\n \\n•', '>').replace('\\n•','>').replace('\\nEKS:', '')"
   ]
  },
  {
   "cell_type": "code",
   "execution_count": 18,
   "id": "65f8e1e2",
   "metadata": {},
   "outputs": [],
   "source": [
    "page1 = page1.split('>>>')\n",
    "#page1"
   ]
  },
  {
   "cell_type": "code",
   "execution_count": 19,
   "id": "d1e00637",
   "metadata": {},
   "outputs": [],
   "source": [
    "del page1[0]\n",
    "#page1"
   ]
  },
  {
   "cell_type": "code",
   "execution_count": 21,
   "id": "56a248d9",
   "metadata": {},
   "outputs": [],
   "source": [
    "clo1 = page1[0].split('>')\n",
    "#clo1"
   ]
  },
  {
   "cell_type": "code",
   "execution_count": 31,
   "id": "6e2e858b",
   "metadata": {},
   "outputs": [
    {
     "data": {
      "text/plain": [
       "'Examine the key components of Artificial Intelligence (AI) systems (CLO #1)'"
      ]
     },
     "execution_count": 31,
     "metadata": {},
     "output_type": "execute_result"
    }
   ],
   "source": [
    "clo1[0]"
   ]
  },
  {
   "cell_type": "code",
   "execution_count": 22,
   "id": "64cda85b",
   "metadata": {},
   "outputs": [],
   "source": [
    "sep = ' '\n",
    "clo1_verbs = []\n",
    "for i in range(len(clo1)):\n",
    "    x = clo1[i].split(sep, 1)[0]\n",
    "    clo1_verbs.append(x)"
   ]
  },
  {
   "cell_type": "code",
   "execution_count": 23,
   "id": "09384a31",
   "metadata": {},
   "outputs": [],
   "source": [
    "word_list = pd.read_excel('word_list.xlsx')\n",
    "#word_list.head()"
   ]
  },
  {
   "cell_type": "code",
   "execution_count": 24,
   "id": "287c5d28",
   "metadata": {},
   "outputs": [],
   "source": [
    "scores = []\n",
    "\n",
    "for i in range(len(clo1_verbs)):\n",
    "    if word_list['1'].str.contains(clo1_verbs[i]).any():\n",
    "        scores.append(1)\n",
    "    elif word_list['2'].str.contains(clo1_verbs[i]).any():\n",
    "        scores.append(2)\n",
    "    elif word_list['3'].str.contains(clo1_verbs[i]).any():\n",
    "        scores.append(3)\n",
    "    elif word_list['4'].str.contains(clo1_verbs[i]).any():\n",
    "        scores.append(4)\n",
    "    elif word_list['5'].str.contains(clo1_verbs[i]).any():\n",
    "        scores.append(5)\n",
    "    elif word_list['6'].str.contains(clo1_verbs[i]).any():\n",
    "        scores.append(6)\n",
    "    else:\n",
    "        scores.append(0)\n",
    "\n",
    "#print(scores)"
   ]
  },
  {
   "cell_type": "code",
   "execution_count": 25,
   "id": "e88bb48a",
   "metadata": {},
   "outputs": [
    {
     "data": {
      "text/html": [
       "<div>\n",
       "<style scoped>\n",
       "    .dataframe tbody tr th:only-of-type {\n",
       "        vertical-align: middle;\n",
       "    }\n",
       "\n",
       "    .dataframe tbody tr th {\n",
       "        vertical-align: top;\n",
       "    }\n",
       "\n",
       "    .dataframe thead th {\n",
       "        text-align: right;\n",
       "    }\n",
       "</style>\n",
       "<table border=\"1\" class=\"dataframe\">\n",
       "  <thead>\n",
       "    <tr style=\"text-align: right;\">\n",
       "      <th></th>\n",
       "      <th>Verbs</th>\n",
       "      <th>Scores</th>\n",
       "    </tr>\n",
       "  </thead>\n",
       "  <tbody>\n",
       "    <tr>\n",
       "      <th>0</th>\n",
       "      <td>Examine</td>\n",
       "      <td>4</td>\n",
       "    </tr>\n",
       "    <tr>\n",
       "      <th>1</th>\n",
       "      <td>Provide</td>\n",
       "      <td>0</td>\n",
       "    </tr>\n",
       "    <tr>\n",
       "      <th>2</th>\n",
       "      <td>Explain</td>\n",
       "      <td>2</td>\n",
       "    </tr>\n",
       "    <tr>\n",
       "      <th>3</th>\n",
       "      <td>Discuss</td>\n",
       "      <td>2</td>\n",
       "    </tr>\n",
       "    <tr>\n",
       "      <th>4</th>\n",
       "      <td>Discuss</td>\n",
       "      <td>2</td>\n",
       "    </tr>\n",
       "    <tr>\n",
       "      <th>5</th>\n",
       "      <td>Describe</td>\n",
       "      <td>1</td>\n",
       "    </tr>\n",
       "  </tbody>\n",
       "</table>\n",
       "</div>"
      ],
      "text/plain": [
       "      Verbs  Scores\n",
       "0   Examine       4\n",
       "1   Provide       0\n",
       "2   Explain       2\n",
       "3   Discuss       2\n",
       "4   Discuss       2\n",
       "5  Describe       1"
      ]
     },
     "execution_count": 25,
     "metadata": {},
     "output_type": "execute_result"
    }
   ],
   "source": [
    "clo1_df = {'Verbs': clo1_verbs, 'Scores': scores}\n",
    "clo1_df = pd.DataFrame(clo1_df)\n",
    "clo1_df"
   ]
  },
  {
   "cell_type": "code",
   "execution_count": 87,
   "id": "63985b36",
   "metadata": {},
   "outputs": [
    {
     "data": {
      "text/html": [
       "<div>\n",
       "<style scoped>\n",
       "    .dataframe tbody tr th:only-of-type {\n",
       "        vertical-align: middle;\n",
       "    }\n",
       "\n",
       "    .dataframe tbody tr th {\n",
       "        vertical-align: top;\n",
       "    }\n",
       "\n",
       "    .dataframe thead th {\n",
       "        text-align: right;\n",
       "    }\n",
       "</style>\n",
       "<table border=\"1\" class=\"dataframe\">\n",
       "  <thead>\n",
       "    <tr style=\"text-align: right;\">\n",
       "      <th></th>\n",
       "      <th>Verbs</th>\n",
       "      <th>Scores</th>\n",
       "      <th>Dist</th>\n",
       "    </tr>\n",
       "  </thead>\n",
       "  <tbody>\n",
       "    <tr>\n",
       "      <th>0</th>\n",
       "      <td>Examine</td>\n",
       "      <td>4</td>\n",
       "      <td>0</td>\n",
       "    </tr>\n",
       "    <tr>\n",
       "      <th>1</th>\n",
       "      <td>Provide</td>\n",
       "      <td>0</td>\n",
       "      <td>4</td>\n",
       "    </tr>\n",
       "    <tr>\n",
       "      <th>2</th>\n",
       "      <td>Explain</td>\n",
       "      <td>2</td>\n",
       "      <td>2</td>\n",
       "    </tr>\n",
       "    <tr>\n",
       "      <th>3</th>\n",
       "      <td>Discuss</td>\n",
       "      <td>2</td>\n",
       "      <td>2</td>\n",
       "    </tr>\n",
       "    <tr>\n",
       "      <th>4</th>\n",
       "      <td>Discuss</td>\n",
       "      <td>2</td>\n",
       "      <td>2</td>\n",
       "    </tr>\n",
       "    <tr>\n",
       "      <th>5</th>\n",
       "      <td>Describe</td>\n",
       "      <td>1</td>\n",
       "      <td>3</td>\n",
       "    </tr>\n",
       "  </tbody>\n",
       "</table>\n",
       "</div>"
      ],
      "text/plain": [
       "      Verbs  Scores  Dist\n",
       "0   Examine       4     0\n",
       "1   Provide       0     4\n",
       "2   Explain       2     2\n",
       "3   Discuss       2     2\n",
       "4   Discuss       2     2\n",
       "5  Describe       1     3"
      ]
     },
     "execution_count": 87,
     "metadata": {},
     "output_type": "execute_result"
    }
   ],
   "source": [
    "clo1_df['Dist'] = abs(clo1_df['Scores'][0] - clo1_df['Scores'])\n",
    "clo1_df"
   ]
  },
  {
   "cell_type": "code",
   "execution_count": 90,
   "id": "7a4e33e6",
   "metadata": {},
   "outputs": [],
   "source": [
    "bloom_violations = clo1_df[clo1_df['Dist'] >= 2][1:]"
   ]
  },
  {
   "cell_type": "code",
   "execution_count": 92,
   "id": "0ba1b181",
   "metadata": {},
   "outputs": [
    {
     "data": {
      "text/html": [
       "<div>\n",
       "<style scoped>\n",
       "    .dataframe tbody tr th:only-of-type {\n",
       "        vertical-align: middle;\n",
       "    }\n",
       "\n",
       "    .dataframe tbody tr th {\n",
       "        vertical-align: top;\n",
       "    }\n",
       "\n",
       "    .dataframe thead th {\n",
       "        text-align: right;\n",
       "    }\n",
       "</style>\n",
       "<table border=\"1\" class=\"dataframe\">\n",
       "  <thead>\n",
       "    <tr style=\"text-align: right;\">\n",
       "      <th></th>\n",
       "      <th>Verbs</th>\n",
       "      <th>Dist</th>\n",
       "    </tr>\n",
       "  </thead>\n",
       "  <tbody>\n",
       "    <tr>\n",
       "      <th>3</th>\n",
       "      <td>Discuss</td>\n",
       "      <td>2</td>\n",
       "    </tr>\n",
       "    <tr>\n",
       "      <th>4</th>\n",
       "      <td>Discuss</td>\n",
       "      <td>2</td>\n",
       "    </tr>\n",
       "    <tr>\n",
       "      <th>5</th>\n",
       "      <td>Describe</td>\n",
       "      <td>3</td>\n",
       "    </tr>\n",
       "  </tbody>\n",
       "</table>\n",
       "</div>"
      ],
      "text/plain": [
       "      Verbs  Dist\n",
       "3   Discuss     2\n",
       "4   Discuss     2\n",
       "5  Describe     3"
      ]
     },
     "execution_count": 92,
     "metadata": {},
     "output_type": "execute_result"
    }
   ],
   "source": [
    "bloom_violations[['Verbs', 'Dist']][1:]"
   ]
  },
  {
   "cell_type": "code",
   "execution_count": 27,
   "id": "386f8365",
   "metadata": {},
   "outputs": [
    {
     "name": "stdout",
     "output_type": "stream",
     "text": [
      "Word which does not exist in Bloom's Conginitive Domain list:\n",
      "     Verbs  Scores\n",
      "1  Provide       0\n"
     ]
    }
   ],
   "source": [
    "print(\"Word which does not exist in Bloom's Conginitive Domain list:\")\n",
    "print(clo1_df[clo1_df['Scores'] == 0])"
   ]
  },
  {
   "cell_type": "code",
   "execution_count": 28,
   "id": "0cab34f9",
   "metadata": {},
   "outputs": [
    {
     "name": "stdout",
     "output_type": "stream",
     "text": [
      "Assessments Violations\n",
      "         Object  Weight  Frequency  Weight per Object   Flag\n",
      "71  Assignments    20.0          4                5.0  False\n",
      "98      Project    20.0          2               10.0  False\n"
     ]
    }
   ],
   "source": [
    "print(\"Assessments Violations\")\n",
    "print(df[df['Flag']==False])"
   ]
  },
  {
   "cell_type": "code",
   "execution_count": 29,
   "id": "40784934",
   "metadata": {},
   "outputs": [
    {
     "data": {
      "text/html": [
       "<div>\n",
       "<style scoped>\n",
       "    .dataframe tbody tr th:only-of-type {\n",
       "        vertical-align: middle;\n",
       "    }\n",
       "\n",
       "    .dataframe tbody tr th {\n",
       "        vertical-align: top;\n",
       "    }\n",
       "\n",
       "    .dataframe thead th {\n",
       "        text-align: right;\n",
       "    }\n",
       "</style>\n",
       "<table border=\"1\" class=\"dataframe\">\n",
       "  <thead>\n",
       "    <tr style=\"text-align: right;\">\n",
       "      <th></th>\n",
       "      <th>Object</th>\n",
       "      <th>Flag</th>\n",
       "    </tr>\n",
       "  </thead>\n",
       "  <tbody>\n",
       "    <tr>\n",
       "      <th>71</th>\n",
       "      <td>Assignments</td>\n",
       "      <td>False</td>\n",
       "    </tr>\n",
       "    <tr>\n",
       "      <th>83</th>\n",
       "      <td>Exam</td>\n",
       "      <td>True</td>\n",
       "    </tr>\n",
       "    <tr>\n",
       "      <th>91</th>\n",
       "      <td>Final Exam</td>\n",
       "      <td>True</td>\n",
       "    </tr>\n",
       "    <tr>\n",
       "      <th>98</th>\n",
       "      <td>Project</td>\n",
       "      <td>False</td>\n",
       "    </tr>\n",
       "    <tr>\n",
       "      <th>107</th>\n",
       "      <td>Quizzes</td>\n",
       "      <td>True</td>\n",
       "    </tr>\n",
       "  </tbody>\n",
       "</table>\n",
       "</div>"
      ],
      "text/plain": [
       "          Object   Flag\n",
       "71   Assignments  False\n",
       "83          Exam   True\n",
       "91    Final Exam   True\n",
       "98       Project  False\n",
       "107      Quizzes   True"
      ]
     },
     "execution_count": 29,
     "metadata": {},
     "output_type": "execute_result"
    }
   ],
   "source": [
    "df[['Object', 'Flag']]"
   ]
  },
  {
   "cell_type": "code",
   "execution_count": 74,
   "id": "e2c2e1f8",
   "metadata": {},
   "outputs": [],
   "source": [
    "rules = pd.read_excel('rules.xlsx', index_col='Rule No.')"
   ]
  },
  {
   "cell_type": "code",
   "execution_count": 75,
   "id": "198cadbe",
   "metadata": {},
   "outputs": [
    {
     "data": {
      "text/html": [
       "<div>\n",
       "<style scoped>\n",
       "    .dataframe tbody tr th:only-of-type {\n",
       "        vertical-align: middle;\n",
       "    }\n",
       "\n",
       "    .dataframe tbody tr th {\n",
       "        vertical-align: top;\n",
       "    }\n",
       "\n",
       "    .dataframe thead th {\n",
       "        text-align: right;\n",
       "    }\n",
       "</style>\n",
       "<table border=\"1\" class=\"dataframe\">\n",
       "  <thead>\n",
       "    <tr style=\"text-align: right;\">\n",
       "      <th></th>\n",
       "      <th>Assessmet Validation Rule</th>\n",
       "    </tr>\n",
       "    <tr>\n",
       "      <th>Rule No.</th>\n",
       "      <th></th>\n",
       "    </tr>\n",
       "  </thead>\n",
       "  <tbody>\n",
       "    <tr>\n",
       "      <th>1</th>\n",
       "      <td>An assessment value between 1% and 4% should b...</td>\n",
       "    </tr>\n",
       "    <tr>\n",
       "      <th>2</th>\n",
       "      <td>An assessment value between 5% and 24% should ...</td>\n",
       "    </tr>\n",
       "    <tr>\n",
       "      <th>3</th>\n",
       "      <td>An assessment value between 25% and 40% should...</td>\n",
       "    </tr>\n",
       "  </tbody>\n",
       "</table>\n",
       "</div>"
      ],
      "text/plain": [
       "                                  Assessmet Validation Rule\n",
       "Rule No.                                                   \n",
       "1         An assessment value between 1% and 4% should b...\n",
       "2         An assessment value between 5% and 24% should ...\n",
       "3         An assessment value between 25% and 40% should..."
      ]
     },
     "execution_count": 75,
     "metadata": {},
     "output_type": "execute_result"
    }
   ],
   "source": [
    "rules"
   ]
  }
 ],
 "metadata": {
  "kernelspec": {
   "display_name": "Python 3 (ipykernel)",
   "language": "python",
   "name": "python3"
  },
  "language_info": {
   "codemirror_mode": {
    "name": "ipython",
    "version": 3
   },
   "file_extension": ".py",
   "mimetype": "text/x-python",
   "name": "python",
   "nbconvert_exporter": "python",
   "pygments_lexer": "ipython3",
   "version": "3.9.12"
  }
 },
 "nbformat": 4,
 "nbformat_minor": 5
}
