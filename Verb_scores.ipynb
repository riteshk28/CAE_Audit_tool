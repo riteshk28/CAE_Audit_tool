{
 "cells": [
  {
   "cell_type": "code",
   "execution_count": 1,
   "id": "d0c636bb",
   "metadata": {},
   "outputs": [],
   "source": [
    "import pandas as pd\n",
    "import PyPDF2"
   ]
  },
  {
   "cell_type": "code",
   "execution_count": 2,
   "id": "6ff124c3",
   "metadata": {},
   "outputs": [],
   "source": [
    "pdfFileObj = open('dab_106.pdf', 'rb')\n",
    "pdfReader = PyPDF2.PdfFileReader(pdfFileObj)"
   ]
  },
  {
   "cell_type": "code",
   "execution_count": 3,
   "id": "17834f1e",
   "metadata": {},
   "outputs": [
    {
     "data": {
      "text/plain": [
       "\"Upon successful completion of this course, the student will be able to:\\n(EKS = Embedded Knowledge and Skills)\\n \\n•Examine the key components of Artificial Intelligence (AI) systems (CLO #1)\\nEKS:\\n•Provide definitions, Concepts, Terminology, and examples of artificial intelligence\\n \\n•Explain What AI is, why it's important, and how AI will impact the different industry\\nsectors and society as a whole.\\n \\n•Discuss the tools, technology, and trends driving the AI revolution.\\n \\n•Discuss intelligent agent, environment, and state\\n \\n•Describe applications of AI and what it takes to introduce AI to an organization\\nsuccessfully.\\n \\n \\n•Summarize the fundamental philosophical/ethical issues, strategy, workloads, and\\nconsiderations related to the development and application of Artificial Intelligence (CLO\\n#2)\\nEKS:\\n•Identify features of common AI workloads\\n \\n•Discuss explainable AI (XAI) and it is the importance\\n \\n•Explain the importance of ethical implementations and how to avoid bias in AI\\n \\n•Identify guiding principles for responsible AI\\n \\n \\n•Describe fundamental principles of machine learning (CLO #3)\\nEKS:\\n•Identify common machine learning types\\n \\n•Describe core machine learning concepts\\n \\n•Identify core tasks in creating a machine learning solution\\n \\n•Describe capabilities of no-code machine learning with Azure Machine Learning studio\\n \\n \\n•Describe features of computer vision, Natural Language Processing, and conversational\\nworkloads on Azure (CLO #4)\\nEKS:\\n•Discuss common types of the computer vision solution\\n \\n•Explain Azure tools and services for computer vision tasks\\n \\n•Identify features and uses for key phrase extraction, entity recognition, sentiment\\nanalysis, translation\\n \\n•Identify tools and services capabilities of the Text Analytics service, LUIS, Speech\\nservice and Translator Text service\\n \\n•Discuss everyday use cases for conversational AI\\n \\n•Identify Azure services for conversational AI\\n \\n \\n•Analyze current applications of Artificial Intelligence (CLO #5)DAB 106 Introduction to Artificial Intelligence\\n \\nPage  3 ©St. Clair College of Applied Arts and Technology Thursday, September 01, 2022\""
      ]
     },
     "execution_count": 3,
     "metadata": {},
     "output_type": "execute_result"
    }
   ],
   "source": [
    "# create page object and extract text\n",
    "\n",
    "pageObj = pdfReader.getPage(2)\n",
    "page1 = pageObj.extractText()\n",
    "page_blob = pageObj.extractText()\n",
    "page1"
   ]
  },
  {
   "cell_type": "code",
   "execution_count": 4,
   "id": "8cc4a188",
   "metadata": {},
   "outputs": [
    {
     "data": {
      "text/plain": [
       "\"Upon successful completion of this course, the student will be able to:\\n(EKS = Embedded Knowledge and Skills>>>Examine the key components of Artificial Intelligence (AI) systems (CLO #1)>Provide definitions, Concepts, Terminology, and examples of artificial intelligence>Explain What AI is, why it's important, and how AI will impact the different industry\\nsectors and society as a whole.>Discuss the tools, technology, and trends driving the AI revolution.>Discuss intelligent agent, environment, and state>Describe applications of AI and what it takes to introduce AI to an organization\\nsuccessfully.>>>Summarize the fundamental philosophical/ethical issues, strategy, workloads, and\\nconsiderations related to the development and application of Artificial Intelligence (CLO\\n#2)>Identify features of common AI workloads>Discuss explainable AI (XAI) and it is the importance>Explain the importance of ethical implementations and how to avoid bias in AI>Identify guiding principles for responsible AI>>>Describe fundamental principles of machine learning (CLO #3)>Identify common machine learning types>Describe core machine learning concepts>Identify core tasks in creating a machine learning solution>Describe capabilities of no-code machine learning with Azure Machine Learning studio>>>Describe features of computer vision, Natural Language Processing, and conversational\\nworkloads on Azure (CLO #4)>Discuss common types of the computer vision solution>Explain Azure tools and services for computer vision tasks>Identify features and uses for key phrase extraction, entity recognition, sentiment\\nanalysis, translation>Identify tools and services capabilities of the Text Analytics service, LUIS, Speech\\nservice and Translator Text service>Discuss everyday use cases for conversational AI>Identify Azure services for conversational AI>>>Analyze current applications of Artificial Intelligence (CLO #5)DAB 106 Introduction to Artificial Intelligence\\n \\nPage  3 ©St. Clair College of Applied Arts and Technology Thursday, September 01, 2022\""
      ]
     },
     "execution_count": 4,
     "metadata": {},
     "output_type": "execute_result"
    }
   ],
   "source": [
    "page1 = page1.replace('\\n \\n \\n•','>>>').replace(')\\n \\n•', '>>>').replace('\\n \\n•', '>').replace('\\n•','>').replace('\\nEKS:', '')\n",
    "page1"
   ]
  },
  {
   "cell_type": "code",
   "execution_count": 5,
   "id": "7b8e57ad",
   "metadata": {},
   "outputs": [
    {
     "data": {
      "text/plain": [
       "['Upon successful completion of this course, the student will be able to:\\n(EKS = Embedded Knowledge and Skills',\n",
       " \"Examine the key components of Artificial Intelligence (AI) systems (CLO #1)>Provide definitions, Concepts, Terminology, and examples of artificial intelligence>Explain What AI is, why it's important, and how AI will impact the different industry\\nsectors and society as a whole.>Discuss the tools, technology, and trends driving the AI revolution.>Discuss intelligent agent, environment, and state>Describe applications of AI and what it takes to introduce AI to an organization\\nsuccessfully.\",\n",
       " 'Summarize the fundamental philosophical/ethical issues, strategy, workloads, and\\nconsiderations related to the development and application of Artificial Intelligence (CLO\\n#2)>Identify features of common AI workloads>Discuss explainable AI (XAI) and it is the importance>Explain the importance of ethical implementations and how to avoid bias in AI>Identify guiding principles for responsible AI',\n",
       " 'Describe fundamental principles of machine learning (CLO #3)>Identify common machine learning types>Describe core machine learning concepts>Identify core tasks in creating a machine learning solution>Describe capabilities of no-code machine learning with Azure Machine Learning studio',\n",
       " 'Describe features of computer vision, Natural Language Processing, and conversational\\nworkloads on Azure (CLO #4)>Discuss common types of the computer vision solution>Explain Azure tools and services for computer vision tasks>Identify features and uses for key phrase extraction, entity recognition, sentiment\\nanalysis, translation>Identify tools and services capabilities of the Text Analytics service, LUIS, Speech\\nservice and Translator Text service>Discuss everyday use cases for conversational AI>Identify Azure services for conversational AI',\n",
       " 'Analyze current applications of Artificial Intelligence (CLO #5)DAB 106 Introduction to Artificial Intelligence\\n \\nPage  3 ©St. Clair College of Applied Arts and Technology Thursday, September 01, 2022']"
      ]
     },
     "execution_count": 5,
     "metadata": {},
     "output_type": "execute_result"
    }
   ],
   "source": [
    "page1 = page1.split('>>>')\n",
    "page1"
   ]
  },
  {
   "cell_type": "code",
   "execution_count": 6,
   "id": "3e7a1b51",
   "metadata": {},
   "outputs": [
    {
     "data": {
      "text/plain": [
       "[\"Examine the key components of Artificial Intelligence (AI) systems (CLO #1)>Provide definitions, Concepts, Terminology, and examples of artificial intelligence>Explain What AI is, why it's important, and how AI will impact the different industry\\nsectors and society as a whole.>Discuss the tools, technology, and trends driving the AI revolution.>Discuss intelligent agent, environment, and state>Describe applications of AI and what it takes to introduce AI to an organization\\nsuccessfully.\",\n",
       " 'Summarize the fundamental philosophical/ethical issues, strategy, workloads, and\\nconsiderations related to the development and application of Artificial Intelligence (CLO\\n#2)>Identify features of common AI workloads>Discuss explainable AI (XAI) and it is the importance>Explain the importance of ethical implementations and how to avoid bias in AI>Identify guiding principles for responsible AI',\n",
       " 'Describe fundamental principles of machine learning (CLO #3)>Identify common machine learning types>Describe core machine learning concepts>Identify core tasks in creating a machine learning solution>Describe capabilities of no-code machine learning with Azure Machine Learning studio',\n",
       " 'Describe features of computer vision, Natural Language Processing, and conversational\\nworkloads on Azure (CLO #4)>Discuss common types of the computer vision solution>Explain Azure tools and services for computer vision tasks>Identify features and uses for key phrase extraction, entity recognition, sentiment\\nanalysis, translation>Identify tools and services capabilities of the Text Analytics service, LUIS, Speech\\nservice and Translator Text service>Discuss everyday use cases for conversational AI>Identify Azure services for conversational AI',\n",
       " 'Analyze current applications of Artificial Intelligence (CLO #5)DAB 106 Introduction to Artificial Intelligence\\n \\nPage  3 ©St. Clair College of Applied Arts and Technology Thursday, September 01, 2022']"
      ]
     },
     "execution_count": 6,
     "metadata": {},
     "output_type": "execute_result"
    }
   ],
   "source": [
    "del page1[0]\n",
    "page1"
   ]
  },
  {
   "cell_type": "code",
   "execution_count": 20,
   "id": "2e96bc64",
   "metadata": {},
   "outputs": [
    {
     "data": {
      "text/plain": [
       "[\"Examine the key components of Artificial Intelligence (AI) systems (CLO #1)>Provide definitions, Concepts, Terminology, and examples of artificial intelligence>Explain What AI is, why it's important, and how AI will impact the different industry\\nsectors and society as a whole.>Discuss the tools, technology, and trends driving the AI revolution.>Discuss intelligent agent, environment, and state>Describe applications of AI and what it takes to introduce AI to an organization\\nsuccessfully.\",\n",
       " 'Summarize the fundamental philosophical/ethical issues, strategy, workloads, and\\nconsiderations related to the development and application of Artificial Intelligence (CLO\\n#2)>Identify features of common AI workloads>Discuss explainable AI (XAI) and it is the importance>Explain the importance of ethical implementations and how to avoid bias in AI>Identify guiding principles for responsible AI',\n",
       " 'Describe fundamental principles of machine learning (CLO #3)>Identify common machine learning types>Describe core machine learning concepts>Identify core tasks in creating a machine learning solution>Describe capabilities of no-code machine learning with Azure Machine Learning studio',\n",
       " 'Describe features of computer vision, Natural Language Processing, and conversational\\nworkloads on Azure (CLO #4)>Discuss common types of the computer vision solution>Explain Azure tools and services for computer vision tasks>Identify features and uses for key phrase extraction, entity recognition, sentiment\\nanalysis, translation>Identify tools and services capabilities of the Text Analytics service, LUIS, Speech\\nservice and Translator Text service>Discuss everyday use cases for conversational AI>Identify Azure services for conversational AI',\n",
       " 'Analyze current applications of Artificial Intelligence (CLO #5)DAB 106 Introduction to Artificial Intelligence\\n \\nPage  3 ©St. Clair College of Applied Arts and Technology Thursday, September 01, 2022']"
      ]
     },
     "execution_count": 20,
     "metadata": {},
     "output_type": "execute_result"
    }
   ],
   "source": [
    "page1"
   ]
  },
  {
   "cell_type": "code",
   "execution_count": 7,
   "id": "0e65953e",
   "metadata": {},
   "outputs": [
    {
     "data": {
      "text/plain": [
       "\"Examine the key components of Artificial Intelligence (AI) systems (CLO #1)>Provide definitions, Concepts, Terminology, and examples of artificial intelligence>Explain What AI is, why it's important, and how AI will impact the different industry\\nsectors and society as a whole.>Discuss the tools, technology, and trends driving the AI revolution.>Discuss intelligent agent, environment, and state>Describe applications of AI and what it takes to introduce AI to an organization\\nsuccessfully.\""
      ]
     },
     "execution_count": 7,
     "metadata": {},
     "output_type": "execute_result"
    }
   ],
   "source": [
    "page1[0]"
   ]
  },
  {
   "cell_type": "code",
   "execution_count": 8,
   "id": "de7121cd",
   "metadata": {},
   "outputs": [],
   "source": [
    "i = 0\n",
    "for j in range(len(page1)):\n",
    "    i += 1\n",
    "    globals()[\"clo\" + str(i)] = page1[j].split('>')"
   ]
  },
  {
   "cell_type": "code",
   "execution_count": 9,
   "id": "a7a81e3d",
   "metadata": {},
   "outputs": [
    {
     "data": {
      "text/plain": [
       "['Examine the key components of Artificial Intelligence (AI) systems (CLO #1)',\n",
       " 'Provide definitions, Concepts, Terminology, and examples of artificial intelligence',\n",
       " \"Explain What AI is, why it's important, and how AI will impact the different industry\\nsectors and society as a whole.\",\n",
       " 'Discuss the tools, technology, and trends driving the AI revolution.',\n",
       " 'Discuss intelligent agent, environment, and state',\n",
       " 'Describe applications of AI and what it takes to introduce AI to an organization\\nsuccessfully.']"
      ]
     },
     "execution_count": 9,
     "metadata": {},
     "output_type": "execute_result"
    }
   ],
   "source": [
    "clo1"
   ]
  },
  {
   "cell_type": "code",
   "execution_count": 11,
   "id": "931db31b",
   "metadata": {},
   "outputs": [],
   "source": [
    "sep = ' '\n",
    "clo1_verbs = []\n",
    "for i in range(len(clo1)):\n",
    "    x = clo1[i].split(sep, 1)[0]\n",
    "    clo1_verbs.append(x)\n",
    "    \n",
    "clo2_verbs = []\n",
    "for i in range(len(clo2)):\n",
    "    x = clo2[i].split(sep, 1)[0]\n",
    "    clo2_verbs.append(x)\n",
    "\n",
    "clo3_verbs = []\n",
    "for i in range(len(clo3)):\n",
    "    x = clo3[i].split(sep, 1)[0]\n",
    "    clo3_verbs.append(x)\n",
    "\n",
    "clo4_verbs = []\n",
    "for i in range(len(clo4)):\n",
    "    x = clo4[i].split(sep, 1)[0]\n",
    "    clo4_verbs.append(x)"
   ]
  },
  {
   "cell_type": "code",
   "execution_count": 12,
   "id": "d34bddde",
   "metadata": {},
   "outputs": [
    {
     "data": {
      "text/plain": [
       "['Examine', 'Provide', 'Explain', 'Discuss', 'Discuss', 'Describe']"
      ]
     },
     "execution_count": 12,
     "metadata": {},
     "output_type": "execute_result"
    }
   ],
   "source": [
    "clo1_verbs"
   ]
  },
  {
   "cell_type": "code",
   "execution_count": 13,
   "id": "f93a2a4d",
   "metadata": {},
   "outputs": [
    {
     "data": {
      "text/plain": [
       "['Summarize', 'Identify', 'Discuss', 'Explain', 'Identify']"
      ]
     },
     "execution_count": 13,
     "metadata": {},
     "output_type": "execute_result"
    }
   ],
   "source": [
    "clo2_verbs"
   ]
  },
  {
   "cell_type": "code",
   "execution_count": 16,
   "id": "816e6025",
   "metadata": {},
   "outputs": [
    {
     "data": {
      "text/html": [
       "<div>\n",
       "<style scoped>\n",
       "    .dataframe tbody tr th:only-of-type {\n",
       "        vertical-align: middle;\n",
       "    }\n",
       "\n",
       "    .dataframe tbody tr th {\n",
       "        vertical-align: top;\n",
       "    }\n",
       "\n",
       "    .dataframe thead th {\n",
       "        text-align: right;\n",
       "    }\n",
       "</style>\n",
       "<table border=\"1\" class=\"dataframe\">\n",
       "  <thead>\n",
       "    <tr style=\"text-align: right;\">\n",
       "      <th></th>\n",
       "      <th>1</th>\n",
       "      <th>2</th>\n",
       "      <th>3</th>\n",
       "      <th>4</th>\n",
       "      <th>5</th>\n",
       "      <th>6</th>\n",
       "    </tr>\n",
       "  </thead>\n",
       "  <tbody>\n",
       "    <tr>\n",
       "      <th>0</th>\n",
       "      <td>Choose</td>\n",
       "      <td>Approximate</td>\n",
       "      <td>Administer</td>\n",
       "      <td>Analyze</td>\n",
       "      <td>Adapt</td>\n",
       "      <td>Appraise</td>\n",
       "    </tr>\n",
       "    <tr>\n",
       "      <th>1</th>\n",
       "      <td>Cite</td>\n",
       "      <td>Associate</td>\n",
       "      <td>Apply</td>\n",
       "      <td>Appraise</td>\n",
       "      <td>Arrange</td>\n",
       "      <td>Approve</td>\n",
       "    </tr>\n",
       "    <tr>\n",
       "      <th>2</th>\n",
       "      <td>Define</td>\n",
       "      <td>Characterize</td>\n",
       "      <td>Assemble</td>\n",
       "      <td>Ascertain</td>\n",
       "      <td>Assemble</td>\n",
       "      <td>Assess</td>\n",
       "    </tr>\n",
       "    <tr>\n",
       "      <th>3</th>\n",
       "      <td>Depict</td>\n",
       "      <td>Clarify</td>\n",
       "      <td>Calculate (from model)</td>\n",
       "      <td>Associate</td>\n",
       "      <td>Bring together</td>\n",
       "      <td>Choose</td>\n",
       "    </tr>\n",
       "    <tr>\n",
       "      <th>4</th>\n",
       "      <td>Describe</td>\n",
       "      <td>Classify</td>\n",
       "      <td>Change (from model)</td>\n",
       "      <td>Audit</td>\n",
       "      <td>Collect (creative)</td>\n",
       "      <td>Compare</td>\n",
       "    </tr>\n",
       "  </tbody>\n",
       "</table>\n",
       "</div>"
      ],
      "text/plain": [
       "           1              2                        3           4  \\\n",
       "0   Choose     Approximate               Administer     Analyze    \n",
       "1      Cite      Associate                   Apply     Appraise    \n",
       "2    Define   Characterize                 Assemble   Ascertain    \n",
       "3    Depict        Clarify   Calculate (from model)   Associate    \n",
       "4  Describe       Classify      Change (from model)       Audit    \n",
       "\n",
       "                     5          6  \n",
       "0               Adapt   Appraise   \n",
       "1             Arrange    Approve   \n",
       "2            Assemble     Assess   \n",
       "3      Bring together    Choose    \n",
       "4  Collect (creative)    Compare   "
      ]
     },
     "execution_count": 16,
     "metadata": {},
     "output_type": "execute_result"
    }
   ],
   "source": [
    "word_list = pd.read_excel('word_list.xlsx')\n",
    "word_list.head()"
   ]
  },
  {
   "cell_type": "code",
   "execution_count": 104,
   "id": "d8585f2b",
   "metadata": {},
   "outputs": [
    {
     "name": "stdout",
     "output_type": "stream",
     "text": [
      "<class 'pandas.core.frame.DataFrame'>\n",
      "RangeIndex: 57 entries, 0 to 56\n",
      "Data columns (total 6 columns):\n",
      " #   Column  Non-Null Count  Dtype \n",
      "---  ------  --------------  ----- \n",
      " 0   1       37 non-null     object\n",
      " 1   2       49 non-null     object\n",
      " 2   3       52 non-null     object\n",
      " 3   4       57 non-null     object\n",
      " 4   5       57 non-null     object\n",
      " 5   6       43 non-null     object\n",
      "dtypes: object(6)\n",
      "memory usage: 2.8+ KB\n"
     ]
    }
   ],
   "source": [
    "word_list.info()"
   ]
  },
  {
   "cell_type": "code",
   "execution_count": 17,
   "id": "2db88e5b",
   "metadata": {},
   "outputs": [],
   "source": [
    "scores1 = []\n",
    "\n",
    "for i in range(len(clo1_verbs)):\n",
    "    \n",
    "    if word_list['1'].str.contains(clo1_verbs[i]).any():\n",
    "        scores1.append(1)\n",
    "    elif word_list['2'].str.contains(clo1_verbs[i]).any():\n",
    "        scores1.append(2)\n",
    "    elif word_list['3'].str.contains(clo1_verbs[i]).any():\n",
    "        scores1.append(3)\n",
    "    elif word_list['4'].str.contains(clo1_verbs[i]).any():\n",
    "        scores1.append(4)\n",
    "    elif word_list['5'].str.contains(clo1_verbs[i]).any():\n",
    "        scores1.append(5)\n",
    "    elif word_list['6'].str.contains(clo1_verbs[i]).any():\n",
    "        scores1.append(6)\n",
    "    else:\n",
    "        scores1.append(0)\n",
    "        \n",
    "scores2 = []\n",
    "\n",
    "for i in range(len(clo2_verbs)):\n",
    "    if word_list['1'].str.contains(clo2_verbs[i]).any():\n",
    "        scores2.append(1)\n",
    "    elif word_list['2'].str.contains(clo2_verbs[i]).any():\n",
    "        scores2.append(2)\n",
    "    elif word_list['3'].str.contains(clo2_verbs[i]).any():\n",
    "        scores2.append(3)\n",
    "    elif word_list['4'].str.contains(clo2_verbs[i]).any():\n",
    "        scores2.append(4)\n",
    "    elif word_list['5'].str.contains(clo2_verbs[i]).any():\n",
    "        scores2.append(5)\n",
    "    elif word_list['6'].str.contains(clo2_verbs[i]).any():\n",
    "        scores2.append(6)\n",
    "    else:\n",
    "        scores2.append(0)\n",
    "        \n",
    "scores3 = []\n",
    "\n",
    "for i in range(len(clo3_verbs)):\n",
    "    if word_list['1'].str.contains(clo3_verbs[i]).any():\n",
    "        scores3.append(1)\n",
    "    elif word_list['2'].str.contains(clo3_verbs[i]).any():\n",
    "        scores3.append(2)\n",
    "    elif word_list['3'].str.contains(clo3_verbs[i]).any():\n",
    "        scores3.append(3)\n",
    "    elif word_list['4'].str.contains(clo3_verbs[i]).any():\n",
    "        scores3.append(4)\n",
    "    elif word_list['5'].str.contains(clo3_verbs[i]).any():\n",
    "        scores3.append(5)\n",
    "    elif word_list['6'].str.contains(clo3_verbs[i]).any():\n",
    "        scores3.append(6)\n",
    "    else:\n",
    "        scores3.append(0)\n",
    "        \n",
    "scores4 = []\n",
    "\n",
    "for i in range(len(clo4_verbs)):\n",
    "    if word_list['1'].str.contains(clo4_verbs[i]).any():\n",
    "        scores4.append(1)\n",
    "    elif word_list['2'].str.contains(clo4_verbs[i]).any():\n",
    "        scores4.append(2)\n",
    "    elif word_list['3'].str.contains(clo4_verbs[i]).any():\n",
    "        scores4.append(3)\n",
    "    elif word_list['4'].str.contains(clo4_verbs[i]).any():\n",
    "        scores4.append(4)\n",
    "    elif word_list['5'].str.contains(clo4_verbs[i]).any():\n",
    "        scores4.append(5)\n",
    "    elif word_list['6'].str.contains(clo4_verbs[i]).any():\n",
    "        scores4.append(6)\n",
    "    else:\n",
    "        scores4.append(0)\n"
   ]
  },
  {
   "cell_type": "code",
   "execution_count": 38,
   "id": "464cb616",
   "metadata": {},
   "outputs": [
    {
     "data": {
      "text/plain": [
       "[2, 1, 2, 2, 1]"
      ]
     },
     "execution_count": 38,
     "metadata": {},
     "output_type": "execute_result"
    }
   ],
   "source": [
    "scores2"
   ]
  },
  {
   "cell_type": "code",
   "execution_count": 24,
   "id": "55549eb7",
   "metadata": {},
   "outputs": [],
   "source": [
    "clo1_df = {'EKS':clo1, 'Verbs': clo1_verbs, 'Scores': scores1}\n",
    "clo1_df = pd.DataFrame(clo1_df)\n",
    "\n",
    "clo2_df = {'EKS':clo2, 'Verbs': clo2_verbs, 'Scores': scores2}\n",
    "clo2_df = pd.DataFrame(clo2_df)\n",
    "\n",
    "clo3_df = {'Verbs': clo3_verbs, 'Scores': scores3}\n",
    "clo3_df = pd.DataFrame(clo3_df)\n",
    "\n",
    "clo4_df = {'Verbs': clo4_verbs, 'Scores': scores4}\n",
    "clo4_df = pd.DataFrame(clo4_df)"
   ]
  },
  {
   "cell_type": "code",
   "execution_count": 25,
   "id": "5ae7dd50",
   "metadata": {},
   "outputs": [
    {
     "data": {
      "text/html": [
       "<div>\n",
       "<style scoped>\n",
       "    .dataframe tbody tr th:only-of-type {\n",
       "        vertical-align: middle;\n",
       "    }\n",
       "\n",
       "    .dataframe tbody tr th {\n",
       "        vertical-align: top;\n",
       "    }\n",
       "\n",
       "    .dataframe thead th {\n",
       "        text-align: right;\n",
       "    }\n",
       "</style>\n",
       "<table border=\"1\" class=\"dataframe\">\n",
       "  <thead>\n",
       "    <tr style=\"text-align: right;\">\n",
       "      <th></th>\n",
       "      <th>EKS</th>\n",
       "      <th>Verbs</th>\n",
       "      <th>Scores</th>\n",
       "    </tr>\n",
       "  </thead>\n",
       "  <tbody>\n",
       "    <tr>\n",
       "      <th>0</th>\n",
       "      <td>Summarize the fundamental philosophical/ethica...</td>\n",
       "      <td>Summarize</td>\n",
       "      <td>2</td>\n",
       "    </tr>\n",
       "    <tr>\n",
       "      <th>1</th>\n",
       "      <td>Identify features of common AI workloads</td>\n",
       "      <td>Identify</td>\n",
       "      <td>1</td>\n",
       "    </tr>\n",
       "    <tr>\n",
       "      <th>2</th>\n",
       "      <td>Discuss explainable AI (XAI) and it is the imp...</td>\n",
       "      <td>Discuss</td>\n",
       "      <td>2</td>\n",
       "    </tr>\n",
       "    <tr>\n",
       "      <th>3</th>\n",
       "      <td>Explain the importance of ethical implementati...</td>\n",
       "      <td>Explain</td>\n",
       "      <td>2</td>\n",
       "    </tr>\n",
       "    <tr>\n",
       "      <th>4</th>\n",
       "      <td>Identify guiding principles for responsible AI</td>\n",
       "      <td>Identify</td>\n",
       "      <td>1</td>\n",
       "    </tr>\n",
       "  </tbody>\n",
       "</table>\n",
       "</div>"
      ],
      "text/plain": [
       "                                                 EKS      Verbs  Scores\n",
       "0  Summarize the fundamental philosophical/ethica...  Summarize       2\n",
       "1           Identify features of common AI workloads   Identify       1\n",
       "2  Discuss explainable AI (XAI) and it is the imp...    Discuss       2\n",
       "3  Explain the importance of ethical implementati...    Explain       2\n",
       "4     Identify guiding principles for responsible AI   Identify       1"
      ]
     },
     "execution_count": 25,
     "metadata": {},
     "output_type": "execute_result"
    }
   ],
   "source": [
    "clo2_df"
   ]
  },
  {
   "cell_type": "code",
   "execution_count": 41,
   "id": "91ee9f0b",
   "metadata": {},
   "outputs": [],
   "source": [
    "clo1_df['Dist'] = abs(clo1_df['Scores'][0] - clo1_df['Scores'])\n",
    "\n",
    "clo2_df['Dist'] = abs(clo2_df['Scores'][0] - clo2_df['Scores'])\n",
    "\n",
    "\n",
    "clo3_df['Dist'] = abs(clo3_df['Scores'][0] - clo3_df['Scores'])\n",
    "\n",
    "\n",
    "clo4_df['Dist'] = abs(clo4_df['Scores'][0] - clo4_df['Scores'])\n"
   ]
  },
  {
   "cell_type": "code",
   "execution_count": 44,
   "id": "69d2c784",
   "metadata": {},
   "outputs": [
    {
     "data": {
      "text/html": [
       "<div>\n",
       "<style scoped>\n",
       "    .dataframe tbody tr th:only-of-type {\n",
       "        vertical-align: middle;\n",
       "    }\n",
       "\n",
       "    .dataframe tbody tr th {\n",
       "        vertical-align: top;\n",
       "    }\n",
       "\n",
       "    .dataframe thead th {\n",
       "        text-align: right;\n",
       "    }\n",
       "</style>\n",
       "<table border=\"1\" class=\"dataframe\">\n",
       "  <thead>\n",
       "    <tr style=\"text-align: right;\">\n",
       "      <th></th>\n",
       "      <th>Verbs</th>\n",
       "      <th>Scores</th>\n",
       "      <th>Dist</th>\n",
       "    </tr>\n",
       "  </thead>\n",
       "  <tbody>\n",
       "    <tr>\n",
       "      <th>0</th>\n",
       "      <td>Describe</td>\n",
       "      <td>1</td>\n",
       "      <td>0</td>\n",
       "    </tr>\n",
       "    <tr>\n",
       "      <th>1</th>\n",
       "      <td>Identify</td>\n",
       "      <td>1</td>\n",
       "      <td>0</td>\n",
       "    </tr>\n",
       "    <tr>\n",
       "      <th>2</th>\n",
       "      <td>Describe</td>\n",
       "      <td>1</td>\n",
       "      <td>0</td>\n",
       "    </tr>\n",
       "    <tr>\n",
       "      <th>3</th>\n",
       "      <td>Identify</td>\n",
       "      <td>1</td>\n",
       "      <td>0</td>\n",
       "    </tr>\n",
       "    <tr>\n",
       "      <th>4</th>\n",
       "      <td>Describe</td>\n",
       "      <td>1</td>\n",
       "      <td>0</td>\n",
       "    </tr>\n",
       "  </tbody>\n",
       "</table>\n",
       "</div>"
      ],
      "text/plain": [
       "      Verbs  Scores  Dist\n",
       "0  Describe       1     0\n",
       "1  Identify       1     0\n",
       "2  Describe       1     0\n",
       "3  Identify       1     0\n",
       "4  Describe       1     0"
      ]
     },
     "execution_count": 44,
     "metadata": {},
     "output_type": "execute_result"
    }
   ],
   "source": [
    "clo3_df"
   ]
  },
  {
   "cell_type": "code",
   "execution_count": 46,
   "id": "a9d22199",
   "metadata": {},
   "outputs": [
    {
     "data": {
      "text/html": [
       "<div>\n",
       "<style scoped>\n",
       "    .dataframe tbody tr th:only-of-type {\n",
       "        vertical-align: middle;\n",
       "    }\n",
       "\n",
       "    .dataframe tbody tr th {\n",
       "        vertical-align: top;\n",
       "    }\n",
       "\n",
       "    .dataframe thead th {\n",
       "        text-align: right;\n",
       "    }\n",
       "</style>\n",
       "<table border=\"1\" class=\"dataframe\">\n",
       "  <thead>\n",
       "    <tr style=\"text-align: right;\">\n",
       "      <th></th>\n",
       "      <th>Verbs</th>\n",
       "      <th>Dist</th>\n",
       "    </tr>\n",
       "  </thead>\n",
       "  <tbody>\n",
       "    <tr>\n",
       "      <th>1</th>\n",
       "      <td>Identify</td>\n",
       "      <td>0</td>\n",
       "    </tr>\n",
       "    <tr>\n",
       "      <th>2</th>\n",
       "      <td>Describe</td>\n",
       "      <td>0</td>\n",
       "    </tr>\n",
       "    <tr>\n",
       "      <th>3</th>\n",
       "      <td>Identify</td>\n",
       "      <td>0</td>\n",
       "    </tr>\n",
       "    <tr>\n",
       "      <th>4</th>\n",
       "      <td>Describe</td>\n",
       "      <td>0</td>\n",
       "    </tr>\n",
       "  </tbody>\n",
       "</table>\n",
       "</div>"
      ],
      "text/plain": [
       "      Verbs  Dist\n",
       "1  Identify     0\n",
       "2  Describe     0\n",
       "3  Identify     0\n",
       "4  Describe     0"
      ]
     },
     "execution_count": 46,
     "metadata": {},
     "output_type": "execute_result"
    }
   ],
   "source": [
    "clo3_df[['Verbs','Dist']][1:] "
   ]
  }
 ],
 "metadata": {
  "kernelspec": {
   "display_name": "Python 3 (ipykernel)",
   "language": "python",
   "name": "python3"
  },
  "language_info": {
   "codemirror_mode": {
    "name": "ipython",
    "version": 3
   },
   "file_extension": ".py",
   "mimetype": "text/x-python",
   "name": "python",
   "nbconvert_exporter": "python",
   "pygments_lexer": "ipython3",
   "version": "3.9.12"
  }
 },
 "nbformat": 4,
 "nbformat_minor": 5
}
